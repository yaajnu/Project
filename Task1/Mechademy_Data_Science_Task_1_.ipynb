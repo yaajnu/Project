{
  "nbformat": 4,
  "nbformat_minor": 0,
  "metadata": {
    "colab": {
      "name": "Mechademy Data Science Task 1 .ipynb",
      "provenance": [],
      "mount_file_id": "1-ttITk5P4I7GjLgeGnYDGXdOIXfKu9eZ",
      "authorship_tag": "ABX9TyMnERbLCB0nH8Gf25AdR0f3",
      "include_colab_link": true
    },
    "kernelspec": {
      "display_name": "Python 3",
      "name": "python3"
    }
  },
  "cells": [
    {
      "cell_type": "markdown",
      "metadata": {
        "id": "view-in-github",
        "colab_type": "text"
      },
      "source": [
        "<a href=\"https://colab.research.google.com/github/yaajnu/Project/blob/main/Mechademy_Data_Science_Task_1_.ipynb\" target=\"_parent\"><img src=\"https://colab.research.google.com/assets/colab-badge.svg\" alt=\"Open In Colab\"/></a>"
      ]
    },
    {
      "cell_type": "code",
      "metadata": {
        "id": "ktD666xODY1x"
      },
      "source": [
        "import pandas as pd\n",
        "import numpy as np\n",
        "import seaborn as sns\n",
        "from sklearn.preprocessing import OrdinalEncoder,OneHotEncoder\n",
        "import ast\n",
        "import matplotlib.pyplot as plt\n",
        "import pickle\n",
        "from scipy.stats import chi2_contingency\n",
        "from sklearn.preprocessing import StandardScaler\n",
        "df_car=pd.read_csv('cars_price.csv')"
      ],
      "execution_count": null,
      "outputs": []
    },
    {
      "cell_type": "code",
      "metadata": {
        "id": "gSlGJOrVEle7",
        "colab": {
          "base_uri": "https://localhost:8080/"
        },
        "outputId": "663a37f0-2c3b-48f0-ec75-8f356d8cde5b"
      },
      "source": [
        "df_car.info()\n"
      ],
      "execution_count": null,
      "outputs": [
        {
          "output_type": "stream",
          "text": [
            "<class 'pandas.core.frame.DataFrame'>\n",
            "RangeIndex: 40000 entries, 0 to 39999\n",
            "Data columns (total 13 columns):\n",
            " #   Column               Non-Null Count  Dtype  \n",
            "---  ------               --------------  -----  \n",
            " 0   Unnamed: 0           40000 non-null  int64  \n",
            " 1   make                 40000 non-null  object \n",
            " 2   model                40000 non-null  object \n",
            " 3   priceUSD             40000 non-null  int64  \n",
            " 4   year                 40000 non-null  int64  \n",
            " 5   condition            40000 non-null  object \n",
            " 6   mileage(kilometers)  40000 non-null  float64\n",
            " 7   fuel_type            40000 non-null  object \n",
            " 8   volume(cm3)          39970 non-null  float64\n",
            " 9   color                40000 non-null  object \n",
            " 10  transmission         40000 non-null  object \n",
            " 11  drive_unit           38655 non-null  object \n",
            " 12  segment              36245 non-null  object \n",
            "dtypes: float64(2), int64(3), object(8)\n",
            "memory usage: 4.0+ MB\n"
          ],
          "name": "stdout"
        }
      ]
    },
    {
      "cell_type": "code",
      "metadata": {
        "id": "Zm9eEqk6uYeE",
        "colab": {
          "base_uri": "https://localhost:8080/"
        },
        "outputId": "423b6ceb-7a59-4a0b-cd64-664627defdf4"
      },
      "source": [
        "df_car['Unnamed: 0']"
      ],
      "execution_count": null,
      "outputs": [
        {
          "output_type": "execute_result",
          "data": {
            "text/plain": [
              "0            0\n",
              "1            1\n",
              "2            2\n",
              "3            3\n",
              "4            4\n",
              "         ...  \n",
              "39995    39995\n",
              "39996    39996\n",
              "39997    39997\n",
              "39998    39998\n",
              "39999    39999\n",
              "Name: Unnamed: 0, Length: 40000, dtype: int64"
            ]
          },
          "metadata": {
            "tags": []
          },
          "execution_count": 113
        }
      ]
    },
    {
      "cell_type": "code",
      "metadata": {
        "id": "tXOaomz4wfXC"
      },
      "source": [
        "#Unnamed  is just a duplicate of the index values which isnt required and make and model\n",
        "df_car.drop(['make','model','Unnamed: 0'],axis=1,inplace=True)"
      ],
      "execution_count": null,
      "outputs": []
    },
    {
      "cell_type": "code",
      "metadata": {
        "id": "Yich6fX9cIMb",
        "colab": {
          "base_uri": "https://localhost:8080/",
          "height": 164
        },
        "outputId": "5567e666-33b4-4d1b-fc0e-c1a29d215d2e"
      },
      "source": [
        "df_car.describe(include=['O'])"
      ],
      "execution_count": null,
      "outputs": [
        {
          "output_type": "execute_result",
          "data": {
            "text/html": [
              "<div>\n",
              "<style scoped>\n",
              "    .dataframe tbody tr th:only-of-type {\n",
              "        vertical-align: middle;\n",
              "    }\n",
              "\n",
              "    .dataframe tbody tr th {\n",
              "        vertical-align: top;\n",
              "    }\n",
              "\n",
              "    .dataframe thead th {\n",
              "        text-align: right;\n",
              "    }\n",
              "</style>\n",
              "<table border=\"1\" class=\"dataframe\">\n",
              "  <thead>\n",
              "    <tr style=\"text-align: right;\">\n",
              "      <th></th>\n",
              "      <th>condition</th>\n",
              "      <th>fuel_type</th>\n",
              "      <th>color</th>\n",
              "      <th>transmission</th>\n",
              "      <th>drive_unit</th>\n",
              "      <th>segment</th>\n",
              "    </tr>\n",
              "  </thead>\n",
              "  <tbody>\n",
              "    <tr>\n",
              "      <th>count</th>\n",
              "      <td>40000</td>\n",
              "      <td>40000</td>\n",
              "      <td>40000</td>\n",
              "      <td>40000</td>\n",
              "      <td>38655</td>\n",
              "      <td>36245</td>\n",
              "    </tr>\n",
              "    <tr>\n",
              "      <th>unique</th>\n",
              "      <td>3</td>\n",
              "      <td>3</td>\n",
              "      <td>13</td>\n",
              "      <td>2</td>\n",
              "      <td>4</td>\n",
              "      <td>9</td>\n",
              "    </tr>\n",
              "    <tr>\n",
              "      <th>top</th>\n",
              "      <td>with mileage</td>\n",
              "      <td>petrol</td>\n",
              "      <td>black</td>\n",
              "      <td>mechanics</td>\n",
              "      <td>front-wheel drive</td>\n",
              "      <td>D</td>\n",
              "    </tr>\n",
              "    <tr>\n",
              "      <th>freq</th>\n",
              "      <td>39337</td>\n",
              "      <td>25869</td>\n",
              "      <td>8867</td>\n",
              "      <td>25630</td>\n",
              "      <td>27074</td>\n",
              "      <td>8985</td>\n",
              "    </tr>\n",
              "  </tbody>\n",
              "</table>\n",
              "</div>"
            ],
            "text/plain": [
              "           condition fuel_type  color transmission         drive_unit segment\n",
              "count          40000     40000  40000        40000              38655   36245\n",
              "unique             3         3     13            2                  4       9\n",
              "top     with mileage    petrol  black    mechanics  front-wheel drive       D\n",
              "freq           39337     25869   8867        25630              27074    8985"
            ]
          },
          "metadata": {
            "tags": []
          },
          "execution_count": 115
        }
      ]
    },
    {
      "cell_type": "code",
      "metadata": {
        "id": "HQO6w6-dLU0Z",
        "colab": {
          "base_uri": "https://localhost:8080/",
          "height": 164
        },
        "outputId": "8e914638-fcee-4fcc-dc63-f0e8d6e3fa24"
      },
      "source": [
        "df_car.corr()"
      ],
      "execution_count": null,
      "outputs": [
        {
          "output_type": "execute_result",
          "data": {
            "text/html": [
              "<div>\n",
              "<style scoped>\n",
              "    .dataframe tbody tr th:only-of-type {\n",
              "        vertical-align: middle;\n",
              "    }\n",
              "\n",
              "    .dataframe tbody tr th {\n",
              "        vertical-align: top;\n",
              "    }\n",
              "\n",
              "    .dataframe thead th {\n",
              "        text-align: right;\n",
              "    }\n",
              "</style>\n",
              "<table border=\"1\" class=\"dataframe\">\n",
              "  <thead>\n",
              "    <tr style=\"text-align: right;\">\n",
              "      <th></th>\n",
              "      <th>priceUSD</th>\n",
              "      <th>year</th>\n",
              "      <th>mileage(kilometers)</th>\n",
              "      <th>volume(cm3)</th>\n",
              "    </tr>\n",
              "  </thead>\n",
              "  <tbody>\n",
              "    <tr>\n",
              "      <th>priceUSD</th>\n",
              "      <td>1.000000</td>\n",
              "      <td>0.608822</td>\n",
              "      <td>-0.171794</td>\n",
              "      <td>0.275745</td>\n",
              "    </tr>\n",
              "    <tr>\n",
              "      <th>year</th>\n",
              "      <td>0.608822</td>\n",
              "      <td>1.000000</td>\n",
              "      <td>-0.235363</td>\n",
              "      <td>0.029087</td>\n",
              "    </tr>\n",
              "    <tr>\n",
              "      <th>mileage(kilometers)</th>\n",
              "      <td>-0.171794</td>\n",
              "      <td>-0.235363</td>\n",
              "      <td>1.000000</td>\n",
              "      <td>0.015849</td>\n",
              "    </tr>\n",
              "    <tr>\n",
              "      <th>volume(cm3)</th>\n",
              "      <td>0.275745</td>\n",
              "      <td>0.029087</td>\n",
              "      <td>0.015849</td>\n",
              "      <td>1.000000</td>\n",
              "    </tr>\n",
              "  </tbody>\n",
              "</table>\n",
              "</div>"
            ],
            "text/plain": [
              "                     priceUSD      year  mileage(kilometers)  volume(cm3)\n",
              "priceUSD             1.000000  0.608822            -0.171794     0.275745\n",
              "year                 0.608822  1.000000            -0.235363     0.029087\n",
              "mileage(kilometers) -0.171794 -0.235363             1.000000     0.015849\n",
              "volume(cm3)          0.275745  0.029087             0.015849     1.000000"
            ]
          },
          "metadata": {
            "tags": []
          },
          "execution_count": 116
        }
      ]
    },
    {
      "cell_type": "code",
      "metadata": {
        "id": "xIcw9xZ36lo-",
        "colab": {
          "base_uri": "https://localhost:8080/",
          "height": 588
        },
        "outputId": "23b40b21-5966-4c7c-f412-4001555576d7"
      },
      "source": [
        "df_car"
      ],
      "execution_count": null,
      "outputs": [
        {
          "output_type": "execute_result",
          "data": {
            "text/html": [
              "<div>\n",
              "<style scoped>\n",
              "    .dataframe tbody tr th:only-of-type {\n",
              "        vertical-align: middle;\n",
              "    }\n",
              "\n",
              "    .dataframe tbody tr th {\n",
              "        vertical-align: top;\n",
              "    }\n",
              "\n",
              "    .dataframe thead th {\n",
              "        text-align: right;\n",
              "    }\n",
              "</style>\n",
              "<table border=\"1\" class=\"dataframe\">\n",
              "  <thead>\n",
              "    <tr style=\"text-align: right;\">\n",
              "      <th></th>\n",
              "      <th>priceUSD</th>\n",
              "      <th>year</th>\n",
              "      <th>condition</th>\n",
              "      <th>mileage(kilometers)</th>\n",
              "      <th>fuel_type</th>\n",
              "      <th>volume(cm3)</th>\n",
              "      <th>color</th>\n",
              "      <th>transmission</th>\n",
              "      <th>drive_unit</th>\n",
              "      <th>segment</th>\n",
              "    </tr>\n",
              "  </thead>\n",
              "  <tbody>\n",
              "    <tr>\n",
              "      <th>0</th>\n",
              "      <td>565</td>\n",
              "      <td>1993</td>\n",
              "      <td>with mileage</td>\n",
              "      <td>960015.0</td>\n",
              "      <td>petrol</td>\n",
              "      <td>2000.0</td>\n",
              "      <td>black</td>\n",
              "      <td>mechanics</td>\n",
              "      <td>front-wheel drive</td>\n",
              "      <td>D</td>\n",
              "    </tr>\n",
              "    <tr>\n",
              "      <th>1</th>\n",
              "      <td>5550</td>\n",
              "      <td>2008</td>\n",
              "      <td>with mileage</td>\n",
              "      <td>172000.0</td>\n",
              "      <td>diesel</td>\n",
              "      <td>1400.0</td>\n",
              "      <td>silver</td>\n",
              "      <td>mechanics</td>\n",
              "      <td>front-wheel drive</td>\n",
              "      <td>M</td>\n",
              "    </tr>\n",
              "    <tr>\n",
              "      <th>2</th>\n",
              "      <td>8300</td>\n",
              "      <td>2008</td>\n",
              "      <td>with mileage</td>\n",
              "      <td>223000.0</td>\n",
              "      <td>petrol</td>\n",
              "      <td>2500.0</td>\n",
              "      <td>purple</td>\n",
              "      <td>auto</td>\n",
              "      <td>front-wheel drive</td>\n",
              "      <td>D</td>\n",
              "    </tr>\n",
              "    <tr>\n",
              "      <th>3</th>\n",
              "      <td>3300</td>\n",
              "      <td>2005</td>\n",
              "      <td>with mileage</td>\n",
              "      <td>140000.0</td>\n",
              "      <td>petrol</td>\n",
              "      <td>1200.0</td>\n",
              "      <td>blue</td>\n",
              "      <td>mechanics</td>\n",
              "      <td>front-wheel drive</td>\n",
              "      <td>A</td>\n",
              "    </tr>\n",
              "    <tr>\n",
              "      <th>4</th>\n",
              "      <td>2450</td>\n",
              "      <td>2002</td>\n",
              "      <td>with damage</td>\n",
              "      <td>413000.0</td>\n",
              "      <td>diesel</td>\n",
              "      <td>2200.0</td>\n",
              "      <td>burgundy</td>\n",
              "      <td>mechanics</td>\n",
              "      <td>front-wheel drive</td>\n",
              "      <td>D</td>\n",
              "    </tr>\n",
              "    <tr>\n",
              "      <th>...</th>\n",
              "      <td>...</td>\n",
              "      <td>...</td>\n",
              "      <td>...</td>\n",
              "      <td>...</td>\n",
              "      <td>...</td>\n",
              "      <td>...</td>\n",
              "      <td>...</td>\n",
              "      <td>...</td>\n",
              "      <td>...</td>\n",
              "      <td>...</td>\n",
              "    </tr>\n",
              "    <tr>\n",
              "      <th>39995</th>\n",
              "      <td>12500</td>\n",
              "      <td>2008</td>\n",
              "      <td>with mileage</td>\n",
              "      <td>214000.0</td>\n",
              "      <td>petrol</td>\n",
              "      <td>3700.0</td>\n",
              "      <td>silver</td>\n",
              "      <td>auto</td>\n",
              "      <td>all-wheel drive</td>\n",
              "      <td>J</td>\n",
              "    </tr>\n",
              "    <tr>\n",
              "      <th>39996</th>\n",
              "      <td>4754</td>\n",
              "      <td>2001</td>\n",
              "      <td>with mileage</td>\n",
              "      <td>295000.0</td>\n",
              "      <td>petrol</td>\n",
              "      <td>2200.0</td>\n",
              "      <td>blue</td>\n",
              "      <td>mechanics</td>\n",
              "      <td>front-wheel drive</td>\n",
              "      <td>E</td>\n",
              "    </tr>\n",
              "    <tr>\n",
              "      <th>39997</th>\n",
              "      <td>4000</td>\n",
              "      <td>1999</td>\n",
              "      <td>with mileage</td>\n",
              "      <td>0.0</td>\n",
              "      <td>diesel</td>\n",
              "      <td>2200.0</td>\n",
              "      <td>other</td>\n",
              "      <td>mechanics</td>\n",
              "      <td>rear drive</td>\n",
              "      <td>D</td>\n",
              "    </tr>\n",
              "    <tr>\n",
              "      <th>39998</th>\n",
              "      <td>1200</td>\n",
              "      <td>1996</td>\n",
              "      <td>with mileage</td>\n",
              "      <td>250000.0</td>\n",
              "      <td>petrol</td>\n",
              "      <td>1300.0</td>\n",
              "      <td>other</td>\n",
              "      <td>mechanics</td>\n",
              "      <td>front-wheel drive</td>\n",
              "      <td>NaN</td>\n",
              "    </tr>\n",
              "    <tr>\n",
              "      <th>39999</th>\n",
              "      <td>744</td>\n",
              "      <td>1986</td>\n",
              "      <td>with mileage</td>\n",
              "      <td>272344.0</td>\n",
              "      <td>diesel</td>\n",
              "      <td>1997.0</td>\n",
              "      <td>silver</td>\n",
              "      <td>mechanics</td>\n",
              "      <td>rear drive</td>\n",
              "      <td>D</td>\n",
              "    </tr>\n",
              "  </tbody>\n",
              "</table>\n",
              "<p>40000 rows × 10 columns</p>\n",
              "</div>"
            ],
            "text/plain": [
              "       priceUSD  year     condition  ...  transmission         drive_unit  segment\n",
              "0           565  1993  with mileage  ...     mechanics  front-wheel drive        D\n",
              "1          5550  2008  with mileage  ...     mechanics  front-wheel drive        M\n",
              "2          8300  2008  with mileage  ...          auto  front-wheel drive        D\n",
              "3          3300  2005  with mileage  ...     mechanics  front-wheel drive        A\n",
              "4          2450  2002   with damage  ...     mechanics  front-wheel drive        D\n",
              "...         ...   ...           ...  ...           ...                ...      ...\n",
              "39995     12500  2008  with mileage  ...          auto    all-wheel drive        J\n",
              "39996      4754  2001  with mileage  ...     mechanics  front-wheel drive        E\n",
              "39997      4000  1999  with mileage  ...     mechanics         rear drive        D\n",
              "39998      1200  1996  with mileage  ...     mechanics  front-wheel drive      NaN\n",
              "39999       744  1986  with mileage  ...     mechanics         rear drive        D\n",
              "\n",
              "[40000 rows x 10 columns]"
            ]
          },
          "metadata": {
            "tags": []
          },
          "execution_count": 117
        }
      ]
    },
    {
      "cell_type": "code",
      "metadata": {
        "id": "FWaGHMNlBQH8",
        "colab": {
          "base_uri": "https://localhost:8080/",
          "height": 885
        },
        "outputId": "1566e6c5-4146-4f10-82fe-67521df0e12a"
      },
      "source": [
        "fig=plt.figure(figsize=(20,20))\n",
        "cols=3\n",
        "plt.subplots_adjust(wspace=0.4,hspace=0.4)\n",
        "rows=int(np.ceil((df_car.shape[1])/cols))\n",
        "for i,column in enumerate(df_car.columns):\n",
        "  ax=fig.add_subplot(rows,cols,i+1)\n",
        "  ax.set_title(column)\n",
        "  if df_car[column].dtype==np.object:\n",
        "    sns.countplot(y=column,data=df_car)\n",
        "    plt.xticks(rotation=45)\n",
        "  else:\n",
        "    sns.distplot(df_car[column])\n",
        "    plt.xticks(rotation=45)\n"
      ],
      "execution_count": null,
      "outputs": [
        {
          "output_type": "stream",
          "text": [
            "/usr/local/lib/python3.6/dist-packages/seaborn/distributions.py:2551: FutureWarning: `distplot` is a deprecated function and will be removed in a future version. Please adapt your code to use either `displot` (a figure-level function with similar flexibility) or `histplot` (an axes-level function for histograms).\n",
            "  warnings.warn(msg, FutureWarning)\n",
            "/usr/local/lib/python3.6/dist-packages/seaborn/distributions.py:2551: FutureWarning: `distplot` is a deprecated function and will be removed in a future version. Please adapt your code to use either `displot` (a figure-level function with similar flexibility) or `histplot` (an axes-level function for histograms).\n",
            "  warnings.warn(msg, FutureWarning)\n",
            "/usr/local/lib/python3.6/dist-packages/seaborn/distributions.py:2551: FutureWarning: `distplot` is a deprecated function and will be removed in a future version. Please adapt your code to use either `displot` (a figure-level function with similar flexibility) or `histplot` (an axes-level function for histograms).\n",
            "  warnings.warn(msg, FutureWarning)\n",
            "/usr/local/lib/python3.6/dist-packages/seaborn/distributions.py:2551: FutureWarning: `distplot` is a deprecated function and will be removed in a future version. Please adapt your code to use either `displot` (a figure-level function with similar flexibility) or `histplot` (an axes-level function for histograms).\n",
            "  warnings.warn(msg, FutureWarning)\n"
          ],
          "name": "stderr"
        },
        {
          "output_type": "display_data",
          "data": {
            "image/png": "[encoded data removed]",
            "text/plain": [
              "<Figure size 1440x1440 with 10 Axes>"
            ]
          },
          "metadata": {
            "tags": [],
            "needs_background": "light"
          }
        }
      ]
    },
    {
      "cell_type": "markdown",
      "metadata": {
        "id": "KSIn5BAi95RH"
      },
      "source": [
        "0.05 is the threshold for rejecting null hypothesis(That the two variables are independent) at 5 percent level(95% confidence)."
      ]
    },
    {
      "cell_type": "code",
      "metadata": {
        "id": "RrEO86ZtVL2m",
        "colab": {
          "base_uri": "https://localhost:8080/"
        },
        "outputId": "9db9d43b-2793-4b74-ddee-90847d5631e0"
      },
      "source": [
        "from scipy.stats import chi2_contingency\n",
        "res=chi2_contingency(pd.crosstab(df_car['segment'],df_car['mileage(kilometers)']))\n",
        "print(\"Chi 2 statistic={} ,p value={}\".format(res[0],res[1]))"
      ],
      "execution_count": null,
      "outputs": [
        {
          "output_type": "stream",
          "text": [
            "Chi 2 statistic=52425.31363991415 ,p value=2.3154742283583197e-65\n"
          ],
          "name": "stdout"
        }
      ]
    },
    {
      "cell_type": "markdown",
      "metadata": {
        "id": "D_pRYVTFs5qV"
      },
      "source": [
        "As we can see that the p value is very small this means that we reject the Null hypothesis(which says that two variables are independent).Therefore segment and mileage are correlated"
      ]
    },
    {
      "cell_type": "code",
      "metadata": {
        "id": "rnAX-2AdzRqY",
        "colab": {
          "base_uri": "https://localhost:8080/"
        },
        "outputId": "72c0eee6-61d9-447b-8857-aac8aaf3c87e"
      },
      "source": [
        "res_drive=chi2_contingency(pd.crosstab(df_car['drive_unit'],df_car['mileage(kilometers)']))\n",
        "print(\"Chi 2 statistic={} ,p value={}\".format(res_drive[0],res_drive[1]))"
      ],
      "execution_count": null,
      "outputs": [
        {
          "output_type": "stream",
          "text": [
            "Chi 2 statistic=21123.629465616297 ,p value=1.504715064188059e-31\n"
          ],
          "name": "stdout"
        }
      ]
    },
    {
      "cell_type": "code",
      "metadata": {
        "id": "JpBKy9-WL-nY",
        "colab": {
          "base_uri": "https://localhost:8080/"
        },
        "outputId": "f6d97c9c-c238-4075-c97c-4cae6fffa3bd"
      },
      "source": [
        "chi2_contingency(pd.crosstab(df_car['priceUSD'],df_car['condition'])\n",
        ")"
      ],
      "execution_count": null,
      "outputs": [
        {
          "output_type": "execute_result",
          "data": {
            "text/plain": [
              "(12909.664133376846, 0.0, 5018, array([[0.00805 , 0.008525, 0.983425],\n",
              "        [0.0322  , 0.0341  , 3.9337  ],\n",
              "        [0.00805 , 0.008525, 0.983425],\n",
              "        ...,\n",
              "        [0.00805 , 0.008525, 0.983425],\n",
              "        [0.00805 , 0.008525, 0.983425],\n",
              "        [0.00805 , 0.008525, 0.983425]]))"
            ]
          },
          "metadata": {
            "tags": []
          },
          "execution_count": 16
        }
      ]
    },
    {
      "cell_type": "markdown",
      "metadata": {
        "id": "LQtEMbqVFQmk"
      },
      "source": [
        "Now lets check the p values for priceUSD column"
      ]
    },
    {
      "cell_type": "code",
      "metadata": {
        "id": "_j-wxT-Mzk3M",
        "colab": {
          "base_uri": "https://localhost:8080/"
        },
        "outputId": "8e556beb-89ef-4b95-d03f-179f14aee082"
      },
      "source": [
        "chi_dict={}\n",
        "reject_null=[]\n",
        "for i,column in enumerate(df_car.columns[1:]):\n",
        "  if column=='priceUSD':\n",
        "    continue\n",
        "  chi_dict[i]=chi2_contingency(pd.crosstab(df_car['priceUSD'],df_car[column]))\n",
        "  print(\"For {} ,Chi 2 statistic={} ,p value={}\".format(column,chi_dict[i][0],chi_dict[i][1]))\n",
        "  if chi_dict[i][1]<5e-2:\n",
        "    reject_null.append(column)"
      ],
      "execution_count": null,
      "outputs": [
        {
          "output_type": "stream",
          "text": [
            "For model ,Chi 2 statistic=3711387.9856253127 ,p value=0.0\n",
            "For year ,Chi 2 statistic=233290.885539682 ,p value=0.0\n",
            "For condition ,Chi 2 statistic=12909.664133376846 ,p value=0.0\n",
            "For mileage(kilometers) ,Chi 2 statistic=26580629.38135504 ,p value=0.0\n",
            "For fuel_type ,Chi 2 statistic=17883.399963000284 ,p value=0.0\n",
            "For volume(cm3) ,Chi 2 statistic=2354318.9876441965 ,p value=0.0\n",
            "For color ,Chi 2 statistic=37507.72199967777 ,p value=1.0645090460343019e-172\n",
            "For transmission ,Chi 2 statistic=13568.637974814648 ,p value=0.0\n",
            "For drive_unit ,Chi 2 statistic=17554.45502129841 ,p value=0.0\n",
            "For segment ,Chi 2 statistic=31953.09082691033 ,p value=0.0\n"
          ],
          "name": "stdout"
        }
      ]
    },
    {
      "cell_type": "markdown",
      "metadata": {
        "id": "-e4la4Mv3opD"
      },
      "source": [
        "Chi2_contingency doesn't work very well as there are many numerical values so we can find statistical correlation by converting the categorical into one-hot vectors and then finding the correlation coefficient"
      ]
    },
    {
      "cell_type": "code",
      "metadata": {
        "id": "37yoIC_JC2B9",
        "colab": {
          "base_uri": "https://localhost:8080/"
        },
        "outputId": "34921dec-929c-41b1-c1db-072cc9277449"
      },
      "source": [
        "df_car.shape"
      ],
      "execution_count": null,
      "outputs": [
        {
          "output_type": "execute_result",
          "data": {
            "text/plain": [
              "(40000, 12)"
            ]
          },
          "metadata": {
            "tags": []
          },
          "execution_count": 18
        }
      ]
    },
    {
      "cell_type": "markdown",
      "metadata": {
        "id": "grdqqJuEF58H"
      },
      "source": [
        "There are quite a few null values in drive_unit and segment before drawing conclusions these data points have to be dealt with(And we fill the volume null values with 0 as they are only null for the electric cars and we don't lose anything by making these columns 0"
      ]
    },
    {
      "cell_type": "code",
      "metadata": {
        "id": "NmnNdmmEuRk1",
        "colab": {
          "base_uri": "https://localhost:8080/"
        },
        "outputId": "e223f8f8-5b50-4021-fa68-4b30157478de"
      },
      "source": [
        "df_car.isnull().sum()"
      ],
      "execution_count": null,
      "outputs": [
        {
          "output_type": "execute_result",
          "data": {
            "text/plain": [
              "make                      0\n",
              "model                     0\n",
              "priceUSD                  0\n",
              "year                      0\n",
              "condition                 0\n",
              "mileage(kilometers)       0\n",
              "fuel_type                 0\n",
              "volume(cm3)              30\n",
              "color                     0\n",
              "transmission              0\n",
              "drive_unit             1345\n",
              "segment                3755\n",
              "dtype: int64"
            ]
          },
          "metadata": {
            "tags": []
          },
          "execution_count": 19
        }
      ]
    },
    {
      "cell_type": "code",
      "metadata": {
        "id": "v0nAk_rfGLaw"
      },
      "source": [
        "#AS we can see the electric cars have NaN in volume as volume of engine doesn't make sense for an electric engine \n",
        "df_car[df_car['volume(cm3)'].isna()]\n",
        "df_car['volume(cm3)']=df_car['volume(cm3)'].fillna(0)"
      ],
      "execution_count": null,
      "outputs": []
    },
    {
      "cell_type": "code",
      "metadata": {
        "id": "RRo420sLNwY9"
      },
      "source": [
        "df_car.fillna(method='ffill',inplace=True)"
      ],
      "execution_count": null,
      "outputs": []
    },
    {
      "cell_type": "markdown",
      "metadata": {
        "id": "IjheISEKzjrm"
      },
      "source": [
        "Both segment and drive unit features definitely have an impact on the mileage so to make predictions for mileage these variables should be included"
      ]
    },
    {
      "cell_type": "markdown",
      "metadata": {
        "id": "_qlG7XLp9OYz"
      },
      "source": [
        "We now convert the categorical variables except make and model to its one-hot vectors and check the correlation coefficient to see the relationship between price and these variable."
      ]
    },
    {
      "cell_type": "code",
      "metadata": {
        "id": "JKWzPYHBbFy2"
      },
      "source": [
        "co=pd.get_dummies(df_car['drive_unit']).columns\n",
        "df_car[co]=pd.get_dummies(df_car['drive_unit'])"
      ],
      "execution_count": null,
      "outputs": []
    },
    {
      "cell_type": "code",
      "metadata": {
        "id": "NH4UzWTmvZcY"
      },
      "source": [
        "co_seg=pd.get_dummies(df_car['segment']).columns\n",
        "df_car[co_seg]=pd.get_dummies(df_car['segment'])"
      ],
      "execution_count": null,
      "outputs": []
    },
    {
      "cell_type": "code",
      "metadata": {
        "id": "_1mz1T9MOStL"
      },
      "source": [
        "co_cond=pd.get_dummies(df_car['condition']).columns\n",
        "df_car[co_cond]=pd.get_dummies(df_car['condition'])"
      ],
      "execution_count": null,
      "outputs": []
    },
    {
      "cell_type": "code",
      "metadata": {
        "id": "4vJHaIhFO5A7"
      },
      "source": [
        "co_fuel=pd.get_dummies(df_car['fuel_type']).columns\n",
        "df_car[co_fuel]=pd.get_dummies(df_car['fuel_type'])"
      ],
      "execution_count": null,
      "outputs": []
    },
    {
      "cell_type": "code",
      "metadata": {
        "id": "UDUxNjYlRo8T"
      },
      "source": [
        "co_trans=pd.get_dummies(df_car['transmission']).columns\n",
        "df_car[co_trans]=pd.get_dummies(df_car['transmission'])"
      ],
      "execution_count": null,
      "outputs": []
    },
    {
      "cell_type": "code",
      "metadata": {
        "id": "B1OXLWk4R79E"
      },
      "source": [
        "co_color=pd.get_dummies(df_car['color']).columns\n",
        "df_car[co_color]=pd.get_dummies(df_car['color'])"
      ],
      "execution_count": null,
      "outputs": []
    },
    {
      "cell_type": "code",
      "metadata": {
        "id": "SYCguHSAxouP",
        "colab": {
          "base_uri": "https://localhost:8080/"
        },
        "outputId": "c479b49c-18ec-45b9-c6b2-68d87c2c381d"
      },
      "source": [
        "df_car.corr()['priceUSD'].sort_values(ascending=False)#These are the correlation coefficients of the columns with priceUSD "
      ],
      "execution_count": null,
      "outputs": [
        {
          "output_type": "execute_result",
          "data": {
            "text/plain": [
              "priceUSD                      1.000000\n",
              "year                          0.608822\n",
              "auto                          0.449840\n",
              "all-wheel drive               0.383716\n",
              "J                             0.354641\n",
              "volume(cm3)                   0.265881\n",
              "black                         0.212367\n",
              "part-time four-wheel drive    0.150283\n",
              "S                             0.136596\n",
              "diesel                        0.098744\n",
              "brown                         0.097238\n",
              "electrocar                    0.096777\n",
              "with mileage                  0.088580\n",
              "white                         0.080398\n",
              "F                             0.052158\n",
              "gray                          0.043662\n",
              "orange                       -0.004832\n",
              "M                            -0.013726\n",
              "yellow                       -0.015589\n",
              "other                        -0.023413\n",
              "A                            -0.029556\n",
              "rear drive                   -0.031588\n",
              "purple                       -0.032990\n",
              "E                            -0.039598\n",
              "with damage                  -0.051001\n",
              "silver                       -0.065836\n",
              "burgundy                     -0.071623\n",
              "for parts                    -0.074086\n",
              "red                          -0.079971\n",
              "B                            -0.097724\n",
              "petrol                       -0.104239\n",
              "blue                         -0.105963\n",
              "D                            -0.121675\n",
              "C                            -0.138749\n",
              "green                        -0.143029\n",
              "mileage(kilometers)          -0.171794\n",
              "front-wheel drive            -0.319354\n",
              "mechanics                    -0.449840\n",
              "Name: priceUSD, dtype: float64"
            ]
          },
          "metadata": {
            "tags": []
          },
          "execution_count": 28
        }
      ]
    },
    {
      "cell_type": "code",
      "metadata": {
        "id": "BXDdHHHR-fLf"
      },
      "source": [
        "#only those columns with correlation above 0.2\n",
        "cols_to_keep=(df_car.corr()['priceUSD'][np.abs(df_car.corr()['priceUSD'].sort_values(ascending=False))>=0.2].index)"
      ],
      "execution_count": null,
      "outputs": []
    },
    {
      "cell_type": "code",
      "metadata": {
        "id": "TSVeh6lmP2Xz",
        "colab": {
          "base_uri": "https://localhost:8080/"
        },
        "outputId": "cd50fff6-2cc7-41b0-9154-103995d63fd8"
      },
      "source": [
        "cols_to_keep[1:]"
      ],
      "execution_count": null,
      "outputs": [
        {
          "output_type": "execute_result",
          "data": {
            "text/plain": [
              "Index(['year', 'volume(cm3)', 'all-wheel drive', 'front-wheel drive', 'J',\n",
              "       'auto', 'mechanics', 'black'],\n",
              "      dtype='object')"
            ]
          },
          "metadata": {
            "tags": []
          },
          "execution_count": 30
        }
      ]
    },
    {
      "cell_type": "code",
      "metadata": {
        "id": "wzgsSVEX5iEb",
        "colab": {
          "base_uri": "https://localhost:8080/"
        },
        "outputId": "dd47e0b4-374b-452d-c804-e82e44dea472"
      },
      "source": [
        "cols_abs=(df_car.corr()['priceUSD'][np.abs(df_car.corr()['priceUSD'].sort_values(ascending=False))>=0.1].index)\n",
        "cols_abs"
      ],
      "execution_count": null,
      "outputs": [
        {
          "output_type": "execute_result",
          "data": {
            "text/plain": [
              "Index(['priceUSD', 'year', 'mileage(kilometers)', 'volume(cm3)',\n",
              "       'all-wheel drive', 'front-wheel drive', 'part-time four-wheel drive',\n",
              "       'C', 'D', 'J', 'S', 'petrol', 'auto', 'mechanics', 'black', 'blue',\n",
              "       'green'],\n",
              "      dtype='object')"
            ]
          },
          "metadata": {
            "tags": []
          },
          "execution_count": 31
        }
      ]
    },
    {
      "cell_type": "code",
      "metadata": {
        "id": "f2-4Hr1l7Car",
        "colab": {
          "base_uri": "https://localhost:8080/"
        },
        "outputId": "34e82296-a6f1-4899-d8be-9a767426f12c"
      },
      "source": [
        "cols_abs[1:]"
      ],
      "execution_count": null,
      "outputs": [
        {
          "output_type": "execute_result",
          "data": {
            "text/plain": [
              "Index(['year', 'mileage(kilometers)', 'volume(cm3)', 'all-wheel drive',\n",
              "       'front-wheel drive', 'part-time four-wheel drive', 'C', 'D', 'J', 'S',\n",
              "       'petrol', 'auto', 'mechanics', 'black', 'blue', 'green'],\n",
              "      dtype='object')"
            ]
          },
          "metadata": {
            "tags": []
          },
          "execution_count": 32
        }
      ]
    },
    {
      "cell_type": "markdown",
      "metadata": {
        "id": "VVm4pizC9qpw"
      },
      "source": [
        "These are the most heavily correlated variables with priceUSD so as we can see color,fuel_type and condition doesn't have any component which determines priceUSD so we are better off dropping these columns while making predictions"
      ]
    },
    {
      "cell_type": "code",
      "metadata": {
        "id": "CuHi5r1zOnBe"
      },
      "source": [
        "df_car_labels=df_car['priceUSD']"
      ],
      "execution_count": null,
      "outputs": []
    },
    {
      "cell_type": "code",
      "metadata": {
        "id": "dMGtZtTLF8GR"
      },
      "source": [
        "df_car.drop(['priceUSD','fuel_type','color','condition','drive_unit','segment','transmission'],axis=1,inplace=True)"
      ],
      "execution_count": null,
      "outputs": []
    },
    {
      "cell_type": "code",
      "metadata": {
        "id": "VRGZrbWL-FSy"
      },
      "source": [
        "#df_car.drop(list(co_color)+list(co_fuel)+list(co_cond)+['fuel_type','color','condition','drive_unit','segment','transmission'],axis=1,inplace=True)"
      ],
      "execution_count": null,
      "outputs": []
    },
    {
      "cell_type": "code",
      "metadata": {
        "id": "-YG97prZ_W4d"
      },
      "source": [
        "#df_car=df_car[cols_to_keep]"
      ],
      "execution_count": null,
      "outputs": []
    },
    {
      "cell_type": "code",
      "metadata": {
        "id": "q7E4ajYj4VvU",
        "colab": {
          "base_uri": "https://localhost:8080/",
          "height": 537
        },
        "outputId": "b15fc906-76a0-4bbd-bd54-894cd1a16403"
      },
      "source": [
        "df_car"
      ],
      "execution_count": null,
      "outputs": [
        {
          "output_type": "execute_result",
          "data": {
            "text/html": [
              "<div>\n",
              "<style scoped>\n",
              "    .dataframe tbody tr th:only-of-type {\n",
              "        vertical-align: middle;\n",
              "    }\n",
              "\n",
              "    .dataframe tbody tr th {\n",
              "        vertical-align: top;\n",
              "    }\n",
              "\n",
              "    .dataframe thead th {\n",
              "        text-align: right;\n",
              "    }\n",
              "</style>\n",
              "<table border=\"1\" class=\"dataframe\">\n",
              "  <thead>\n",
              "    <tr style=\"text-align: right;\">\n",
              "      <th></th>\n",
              "      <th>make</th>\n",
              "      <th>model</th>\n",
              "      <th>year</th>\n",
              "      <th>mileage(kilometers)</th>\n",
              "      <th>volume(cm3)</th>\n",
              "      <th>all-wheel drive</th>\n",
              "      <th>front-wheel drive</th>\n",
              "      <th>part-time four-wheel drive</th>\n",
              "      <th>rear drive</th>\n",
              "      <th>A</th>\n",
              "      <th>B</th>\n",
              "      <th>C</th>\n",
              "      <th>D</th>\n",
              "      <th>E</th>\n",
              "      <th>F</th>\n",
              "      <th>J</th>\n",
              "      <th>M</th>\n",
              "      <th>S</th>\n",
              "      <th>for parts</th>\n",
              "      <th>with damage</th>\n",
              "      <th>with mileage</th>\n",
              "      <th>diesel</th>\n",
              "      <th>electrocar</th>\n",
              "      <th>petrol</th>\n",
              "      <th>auto</th>\n",
              "      <th>mechanics</th>\n",
              "      <th>black</th>\n",
              "      <th>blue</th>\n",
              "      <th>brown</th>\n",
              "      <th>burgundy</th>\n",
              "      <th>gray</th>\n",
              "      <th>green</th>\n",
              "      <th>orange</th>\n",
              "      <th>other</th>\n",
              "      <th>purple</th>\n",
              "      <th>red</th>\n",
              "      <th>silver</th>\n",
              "      <th>white</th>\n",
              "      <th>yellow</th>\n",
              "    </tr>\n",
              "  </thead>\n",
              "  <tbody>\n",
              "    <tr>\n",
              "      <th>0</th>\n",
              "      <td>honda</td>\n",
              "      <td>accord</td>\n",
              "      <td>1993</td>\n",
              "      <td>960015.0</td>\n",
              "      <td>2000.0</td>\n",
              "      <td>0</td>\n",
              "      <td>1</td>\n",
              "      <td>0</td>\n",
              "      <td>0</td>\n",
              "      <td>0</td>\n",
              "      <td>0</td>\n",
              "      <td>0</td>\n",
              "      <td>1</td>\n",
              "      <td>0</td>\n",
              "      <td>0</td>\n",
              "      <td>0</td>\n",
              "      <td>0</td>\n",
              "      <td>0</td>\n",
              "      <td>0</td>\n",
              "      <td>0</td>\n",
              "      <td>1</td>\n",
              "      <td>0</td>\n",
              "      <td>0</td>\n",
              "      <td>1</td>\n",
              "      <td>0</td>\n",
              "      <td>1</td>\n",
              "      <td>1</td>\n",
              "      <td>0</td>\n",
              "      <td>0</td>\n",
              "      <td>0</td>\n",
              "      <td>0</td>\n",
              "      <td>0</td>\n",
              "      <td>0</td>\n",
              "      <td>0</td>\n",
              "      <td>0</td>\n",
              "      <td>0</td>\n",
              "      <td>0</td>\n",
              "      <td>0</td>\n",
              "      <td>0</td>\n",
              "    </tr>\n",
              "    <tr>\n",
              "      <th>1</th>\n",
              "      <td>ford</td>\n",
              "      <td>fusion</td>\n",
              "      <td>2008</td>\n",
              "      <td>172000.0</td>\n",
              "      <td>1400.0</td>\n",
              "      <td>0</td>\n",
              "      <td>1</td>\n",
              "      <td>0</td>\n",
              "      <td>0</td>\n",
              "      <td>0</td>\n",
              "      <td>0</td>\n",
              "      <td>0</td>\n",
              "      <td>0</td>\n",
              "      <td>0</td>\n",
              "      <td>0</td>\n",
              "      <td>0</td>\n",
              "      <td>1</td>\n",
              "      <td>0</td>\n",
              "      <td>0</td>\n",
              "      <td>0</td>\n",
              "      <td>1</td>\n",
              "      <td>1</td>\n",
              "      <td>0</td>\n",
              "      <td>0</td>\n",
              "      <td>0</td>\n",
              "      <td>1</td>\n",
              "      <td>0</td>\n",
              "      <td>0</td>\n",
              "      <td>0</td>\n",
              "      <td>0</td>\n",
              "      <td>0</td>\n",
              "      <td>0</td>\n",
              "      <td>0</td>\n",
              "      <td>0</td>\n",
              "      <td>0</td>\n",
              "      <td>0</td>\n",
              "      <td>1</td>\n",
              "      <td>0</td>\n",
              "      <td>0</td>\n",
              "    </tr>\n",
              "    <tr>\n",
              "      <th>2</th>\n",
              "      <td>nissan</td>\n",
              "      <td>teana</td>\n",
              "      <td>2008</td>\n",
              "      <td>223000.0</td>\n",
              "      <td>2500.0</td>\n",
              "      <td>0</td>\n",
              "      <td>1</td>\n",
              "      <td>0</td>\n",
              "      <td>0</td>\n",
              "      <td>0</td>\n",
              "      <td>0</td>\n",
              "      <td>0</td>\n",
              "      <td>1</td>\n",
              "      <td>0</td>\n",
              "      <td>0</td>\n",
              "      <td>0</td>\n",
              "      <td>0</td>\n",
              "      <td>0</td>\n",
              "      <td>0</td>\n",
              "      <td>0</td>\n",
              "      <td>1</td>\n",
              "      <td>0</td>\n",
              "      <td>0</td>\n",
              "      <td>1</td>\n",
              "      <td>1</td>\n",
              "      <td>0</td>\n",
              "      <td>0</td>\n",
              "      <td>0</td>\n",
              "      <td>0</td>\n",
              "      <td>0</td>\n",
              "      <td>0</td>\n",
              "      <td>0</td>\n",
              "      <td>0</td>\n",
              "      <td>0</td>\n",
              "      <td>1</td>\n",
              "      <td>0</td>\n",
              "      <td>0</td>\n",
              "      <td>0</td>\n",
              "      <td>0</td>\n",
              "    </tr>\n",
              "    <tr>\n",
              "      <th>3</th>\n",
              "      <td>volkswagen</td>\n",
              "      <td>fox</td>\n",
              "      <td>2005</td>\n",
              "      <td>140000.0</td>\n",
              "      <td>1200.0</td>\n",
              "      <td>0</td>\n",
              "      <td>1</td>\n",
              "      <td>0</td>\n",
              "      <td>0</td>\n",
              "      <td>1</td>\n",
              "      <td>0</td>\n",
              "      <td>0</td>\n",
              "      <td>0</td>\n",
              "      <td>0</td>\n",
              "      <td>0</td>\n",
              "      <td>0</td>\n",
              "      <td>0</td>\n",
              "      <td>0</td>\n",
              "      <td>0</td>\n",
              "      <td>0</td>\n",
              "      <td>1</td>\n",
              "      <td>0</td>\n",
              "      <td>0</td>\n",
              "      <td>1</td>\n",
              "      <td>0</td>\n",
              "      <td>1</td>\n",
              "      <td>0</td>\n",
              "      <td>1</td>\n",
              "      <td>0</td>\n",
              "      <td>0</td>\n",
              "      <td>0</td>\n",
              "      <td>0</td>\n",
              "      <td>0</td>\n",
              "      <td>0</td>\n",
              "      <td>0</td>\n",
              "      <td>0</td>\n",
              "      <td>0</td>\n",
              "      <td>0</td>\n",
              "      <td>0</td>\n",
              "    </tr>\n",
              "    <tr>\n",
              "      <th>4</th>\n",
              "      <td>nissan</td>\n",
              "      <td>primera</td>\n",
              "      <td>2002</td>\n",
              "      <td>413000.0</td>\n",
              "      <td>2200.0</td>\n",
              "      <td>0</td>\n",
              "      <td>1</td>\n",
              "      <td>0</td>\n",
              "      <td>0</td>\n",
              "      <td>0</td>\n",
              "      <td>0</td>\n",
              "      <td>0</td>\n",
              "      <td>1</td>\n",
              "      <td>0</td>\n",
              "      <td>0</td>\n",
              "      <td>0</td>\n",
              "      <td>0</td>\n",
              "      <td>0</td>\n",
              "      <td>0</td>\n",
              "      <td>1</td>\n",
              "      <td>0</td>\n",
              "      <td>1</td>\n",
              "      <td>0</td>\n",
              "      <td>0</td>\n",
              "      <td>0</td>\n",
              "      <td>1</td>\n",
              "      <td>0</td>\n",
              "      <td>0</td>\n",
              "      <td>0</td>\n",
              "      <td>1</td>\n",
              "      <td>0</td>\n",
              "      <td>0</td>\n",
              "      <td>0</td>\n",
              "      <td>0</td>\n",
              "      <td>0</td>\n",
              "      <td>0</td>\n",
              "      <td>0</td>\n",
              "      <td>0</td>\n",
              "      <td>0</td>\n",
              "    </tr>\n",
              "    <tr>\n",
              "      <th>...</th>\n",
              "      <td>...</td>\n",
              "      <td>...</td>\n",
              "      <td>...</td>\n",
              "      <td>...</td>\n",
              "      <td>...</td>\n",
              "      <td>...</td>\n",
              "      <td>...</td>\n",
              "      <td>...</td>\n",
              "      <td>...</td>\n",
              "      <td>...</td>\n",
              "      <td>...</td>\n",
              "      <td>...</td>\n",
              "      <td>...</td>\n",
              "      <td>...</td>\n",
              "      <td>...</td>\n",
              "      <td>...</td>\n",
              "      <td>...</td>\n",
              "      <td>...</td>\n",
              "      <td>...</td>\n",
              "      <td>...</td>\n",
              "      <td>...</td>\n",
              "      <td>...</td>\n",
              "      <td>...</td>\n",
              "      <td>...</td>\n",
              "      <td>...</td>\n",
              "      <td>...</td>\n",
              "      <td>...</td>\n",
              "      <td>...</td>\n",
              "      <td>...</td>\n",
              "      <td>...</td>\n",
              "      <td>...</td>\n",
              "      <td>...</td>\n",
              "      <td>...</td>\n",
              "      <td>...</td>\n",
              "      <td>...</td>\n",
              "      <td>...</td>\n",
              "      <td>...</td>\n",
              "      <td>...</td>\n",
              "      <td>...</td>\n",
              "    </tr>\n",
              "    <tr>\n",
              "      <th>39995</th>\n",
              "      <td>jeep</td>\n",
              "      <td>grand-cherokee</td>\n",
              "      <td>2008</td>\n",
              "      <td>214000.0</td>\n",
              "      <td>3700.0</td>\n",
              "      <td>1</td>\n",
              "      <td>0</td>\n",
              "      <td>0</td>\n",
              "      <td>0</td>\n",
              "      <td>0</td>\n",
              "      <td>0</td>\n",
              "      <td>0</td>\n",
              "      <td>0</td>\n",
              "      <td>0</td>\n",
              "      <td>0</td>\n",
              "      <td>1</td>\n",
              "      <td>0</td>\n",
              "      <td>0</td>\n",
              "      <td>0</td>\n",
              "      <td>0</td>\n",
              "      <td>1</td>\n",
              "      <td>0</td>\n",
              "      <td>0</td>\n",
              "      <td>1</td>\n",
              "      <td>1</td>\n",
              "      <td>0</td>\n",
              "      <td>0</td>\n",
              "      <td>0</td>\n",
              "      <td>0</td>\n",
              "      <td>0</td>\n",
              "      <td>0</td>\n",
              "      <td>0</td>\n",
              "      <td>0</td>\n",
              "      <td>0</td>\n",
              "      <td>0</td>\n",
              "      <td>0</td>\n",
              "      <td>1</td>\n",
              "      <td>0</td>\n",
              "      <td>0</td>\n",
              "    </tr>\n",
              "    <tr>\n",
              "      <th>39996</th>\n",
              "      <td>peugeot</td>\n",
              "      <td>607</td>\n",
              "      <td>2001</td>\n",
              "      <td>295000.0</td>\n",
              "      <td>2200.0</td>\n",
              "      <td>0</td>\n",
              "      <td>1</td>\n",
              "      <td>0</td>\n",
              "      <td>0</td>\n",
              "      <td>0</td>\n",
              "      <td>0</td>\n",
              "      <td>0</td>\n",
              "      <td>0</td>\n",
              "      <td>1</td>\n",
              "      <td>0</td>\n",
              "      <td>0</td>\n",
              "      <td>0</td>\n",
              "      <td>0</td>\n",
              "      <td>0</td>\n",
              "      <td>0</td>\n",
              "      <td>1</td>\n",
              "      <td>0</td>\n",
              "      <td>0</td>\n",
              "      <td>1</td>\n",
              "      <td>0</td>\n",
              "      <td>1</td>\n",
              "      <td>0</td>\n",
              "      <td>1</td>\n",
              "      <td>0</td>\n",
              "      <td>0</td>\n",
              "      <td>0</td>\n",
              "      <td>0</td>\n",
              "      <td>0</td>\n",
              "      <td>0</td>\n",
              "      <td>0</td>\n",
              "      <td>0</td>\n",
              "      <td>0</td>\n",
              "      <td>0</td>\n",
              "      <td>0</td>\n",
              "    </tr>\n",
              "    <tr>\n",
              "      <th>39997</th>\n",
              "      <td>mercedes-benz</td>\n",
              "      <td>c-klass</td>\n",
              "      <td>1999</td>\n",
              "      <td>0.0</td>\n",
              "      <td>2200.0</td>\n",
              "      <td>0</td>\n",
              "      <td>0</td>\n",
              "      <td>0</td>\n",
              "      <td>1</td>\n",
              "      <td>0</td>\n",
              "      <td>0</td>\n",
              "      <td>0</td>\n",
              "      <td>1</td>\n",
              "      <td>0</td>\n",
              "      <td>0</td>\n",
              "      <td>0</td>\n",
              "      <td>0</td>\n",
              "      <td>0</td>\n",
              "      <td>0</td>\n",
              "      <td>0</td>\n",
              "      <td>1</td>\n",
              "      <td>1</td>\n",
              "      <td>0</td>\n",
              "      <td>0</td>\n",
              "      <td>0</td>\n",
              "      <td>1</td>\n",
              "      <td>0</td>\n",
              "      <td>0</td>\n",
              "      <td>0</td>\n",
              "      <td>0</td>\n",
              "      <td>0</td>\n",
              "      <td>0</td>\n",
              "      <td>0</td>\n",
              "      <td>1</td>\n",
              "      <td>0</td>\n",
              "      <td>0</td>\n",
              "      <td>0</td>\n",
              "      <td>0</td>\n",
              "      <td>0</td>\n",
              "    </tr>\n",
              "    <tr>\n",
              "      <th>39998</th>\n",
              "      <td>proton</td>\n",
              "      <td>persona</td>\n",
              "      <td>1996</td>\n",
              "      <td>250000.0</td>\n",
              "      <td>1300.0</td>\n",
              "      <td>0</td>\n",
              "      <td>1</td>\n",
              "      <td>0</td>\n",
              "      <td>0</td>\n",
              "      <td>0</td>\n",
              "      <td>0</td>\n",
              "      <td>0</td>\n",
              "      <td>1</td>\n",
              "      <td>0</td>\n",
              "      <td>0</td>\n",
              "      <td>0</td>\n",
              "      <td>0</td>\n",
              "      <td>0</td>\n",
              "      <td>0</td>\n",
              "      <td>0</td>\n",
              "      <td>1</td>\n",
              "      <td>0</td>\n",
              "      <td>0</td>\n",
              "      <td>1</td>\n",
              "      <td>0</td>\n",
              "      <td>1</td>\n",
              "      <td>0</td>\n",
              "      <td>0</td>\n",
              "      <td>0</td>\n",
              "      <td>0</td>\n",
              "      <td>0</td>\n",
              "      <td>0</td>\n",
              "      <td>0</td>\n",
              "      <td>1</td>\n",
              "      <td>0</td>\n",
              "      <td>0</td>\n",
              "      <td>0</td>\n",
              "      <td>0</td>\n",
              "      <td>0</td>\n",
              "    </tr>\n",
              "    <tr>\n",
              "      <th>39999</th>\n",
              "      <td>mercedes-benz</td>\n",
              "      <td>190-w201</td>\n",
              "      <td>1986</td>\n",
              "      <td>272344.0</td>\n",
              "      <td>1997.0</td>\n",
              "      <td>0</td>\n",
              "      <td>0</td>\n",
              "      <td>0</td>\n",
              "      <td>1</td>\n",
              "      <td>0</td>\n",
              "      <td>0</td>\n",
              "      <td>0</td>\n",
              "      <td>1</td>\n",
              "      <td>0</td>\n",
              "      <td>0</td>\n",
              "      <td>0</td>\n",
              "      <td>0</td>\n",
              "      <td>0</td>\n",
              "      <td>0</td>\n",
              "      <td>0</td>\n",
              "      <td>1</td>\n",
              "      <td>1</td>\n",
              "      <td>0</td>\n",
              "      <td>0</td>\n",
              "      <td>0</td>\n",
              "      <td>1</td>\n",
              "      <td>0</td>\n",
              "      <td>0</td>\n",
              "      <td>0</td>\n",
              "      <td>0</td>\n",
              "      <td>0</td>\n",
              "      <td>0</td>\n",
              "      <td>0</td>\n",
              "      <td>0</td>\n",
              "      <td>0</td>\n",
              "      <td>0</td>\n",
              "      <td>1</td>\n",
              "      <td>0</td>\n",
              "      <td>0</td>\n",
              "    </tr>\n",
              "  </tbody>\n",
              "</table>\n",
              "<p>40000 rows × 39 columns</p>\n",
              "</div>"
            ],
            "text/plain": [
              "                make           model  year  ...  silver  white  yellow\n",
              "0              honda          accord  1993  ...       0      0       0\n",
              "1               ford          fusion  2008  ...       1      0       0\n",
              "2             nissan           teana  2008  ...       0      0       0\n",
              "3         volkswagen             fox  2005  ...       0      0       0\n",
              "4             nissan         primera  2002  ...       0      0       0\n",
              "...              ...             ...   ...  ...     ...    ...     ...\n",
              "39995           jeep  grand-cherokee  2008  ...       1      0       0\n",
              "39996        peugeot             607  2001  ...       0      0       0\n",
              "39997  mercedes-benz         c-klass  1999  ...       0      0       0\n",
              "39998         proton         persona  1996  ...       0      0       0\n",
              "39999  mercedes-benz        190-w201  1986  ...       1      0       0\n",
              "\n",
              "[40000 rows x 39 columns]"
            ]
          },
          "metadata": {
            "tags": []
          },
          "execution_count": 37
        }
      ]
    },
    {
      "cell_type": "code",
      "metadata": {
        "id": "gBc7pQs9SO7G",
        "colab": {
          "base_uri": "https://localhost:8080/"
        },
        "outputId": "f0dd4937-1608-4787-e241-7e6a9c2fde7c"
      },
      "source": [
        "df_car_labels"
      ],
      "execution_count": null,
      "outputs": [
        {
          "output_type": "execute_result",
          "data": {
            "text/plain": [
              "0          565\n",
              "1         5550\n",
              "2         8300\n",
              "3         3300\n",
              "4         2450\n",
              "         ...  \n",
              "39995    12500\n",
              "39996     4754\n",
              "39997     4000\n",
              "39998     1200\n",
              "39999      744\n",
              "Name: priceUSD, Length: 40000, dtype: int64"
            ]
          },
          "metadata": {
            "tags": []
          },
          "execution_count": 38
        }
      ]
    },
    {
      "cell_type": "code",
      "metadata": {
        "id": "-6vbLIUqSQHM"
      },
      "source": [
        "from sklearn.model_selection import train_test_split\n",
        "from sklearn.ensemble import RandomForestRegressor\n",
        "from sklearn.metrics import accuracy_score,mean_squared_error\n",
        "X_train, X_test, y_train, y_test=train_test_split(df_car[cols_to_keep[1:]],df_car_labels,test_size=0.2)"
      ],
      "execution_count": null,
      "outputs": []
    },
    {
      "cell_type": "code",
      "metadata": {
        "id": "jZ6oI8WLSlrw"
      },
      "source": [
        "forestreg=RandomForestRegressor()\n"
      ],
      "execution_count": null,
      "outputs": []
    },
    {
      "cell_type": "code",
      "metadata": {
        "id": "l2BP3EtGSoFQ",
        "colab": {
          "base_uri": "https://localhost:8080/"
        },
        "outputId": "40f9eaac-d87e-4588-f2e6-2ae42a9fc6c4"
      },
      "source": [
        "forestreg.fit(X_train,y_train)"
      ],
      "execution_count": null,
      "outputs": [
        {
          "output_type": "execute_result",
          "data": {
            "text/plain": [
              "RandomForestRegressor(bootstrap=True, ccp_alpha=0.0, criterion='mse',\n",
              "                      max_depth=None, max_features='auto', max_leaf_nodes=None,\n",
              "                      max_samples=None, min_impurity_decrease=0.0,\n",
              "                      min_impurity_split=None, min_samples_leaf=1,\n",
              "                      min_samples_split=2, min_weight_fraction_leaf=0.0,\n",
              "                      n_estimators=100, n_jobs=None, oob_score=False,\n",
              "                      random_state=None, verbose=0, warm_start=False)"
            ]
          },
          "metadata": {
            "tags": []
          },
          "execution_count": 55
        }
      ]
    },
    {
      "cell_type": "code",
      "metadata": {
        "id": "--ygfE-t_1f8",
        "colab": {
          "base_uri": "https://localhost:8080/"
        },
        "outputId": "a6063918-6251-4170-e633-3384243db91c"
      },
      "source": [
        "for i,j in zip(df_car.columns,forestreg.feature_importances_):\n",
        "  print(i,j)"
      ],
      "execution_count": null,
      "outputs": [
        {
          "output_type": "stream",
          "text": [
            "make 0.6260858317072582\n",
            "model 0.29929970092251035\n",
            "year 0.021157012950392275\n",
            "mileage(kilometers) 0.012447734391448511\n",
            "volume(cm3) 0.015197279940410157\n",
            "all-wheel drive 0.0056707140760000555\n",
            "front-wheel drive 0.006634936052505138\n",
            "part-time four-wheel drive 0.013506789959475306\n"
          ],
          "name": "stdout"
        }
      ]
    },
    {
      "cell_type": "code",
      "metadata": {
        "id": "6LRmvpV0S4yJ"
      },
      "source": [
        "y_pred=forestreg.predict(X_train)"
      ],
      "execution_count": null,
      "outputs": []
    },
    {
      "cell_type": "code",
      "metadata": {
        "id": "2NIrEgT-FD5W",
        "colab": {
          "base_uri": "https://localhost:8080/"
        },
        "outputId": "5246fa3c-d78e-4431-9bd6-69467ef07e70"
      },
      "source": [
        "y_pred"
      ],
      "execution_count": null,
      "outputs": [
        {
          "output_type": "execute_result",
          "data": {
            "text/plain": [
              "array([ 3282.27857143, 10886.09827412,  1021.68329431, ...,\n",
              "        7343.79619986,  6637.26709017,   946.18711413])"
            ]
          },
          "metadata": {
            "tags": []
          },
          "execution_count": 58
        }
      ]
    },
    {
      "cell_type": "code",
      "metadata": {
        "id": "wQPI_T5GTHbz",
        "colab": {
          "base_uri": "https://localhost:8080/"
        },
        "outputId": "80719b61-3052-42a9-86c4-ce0bf793f579"
      },
      "source": [
        "y_train"
      ],
      "execution_count": null,
      "outputs": [
        {
          "output_type": "execute_result",
          "data": {
            "text/plain": [
              "6016      2450\n",
              "18124    10700\n",
              "4407       700\n",
              "29389     5650\n",
              "23060    11600\n",
              "         ...  \n",
              "19674     6300\n",
              "34416     5500\n",
              "20384     8000\n",
              "19858     5800\n",
              "20612      750\n",
              "Name: priceUSD, Length: 32000, dtype: int64"
            ]
          },
          "metadata": {
            "tags": []
          },
          "execution_count": 59
        }
      ]
    },
    {
      "cell_type": "code",
      "metadata": {
        "id": "5-NFJtmMTICN",
        "colab": {
          "base_uri": "https://localhost:8080/"
        },
        "outputId": "f56a8722-8e44-4bae-8170-3aa35960f73d"
      },
      "source": [
        "mean_squared_error(y_train,y_pred,squared=False)"
      ],
      "execution_count": null,
      "outputs": [
        {
          "output_type": "execute_result",
          "data": {
            "text/plain": [
              "2396.5497414062647"
            ]
          },
          "metadata": {
            "tags": []
          },
          "execution_count": 60
        }
      ]
    },
    {
      "cell_type": "code",
      "metadata": {
        "id": "23jk4CzTFh04"
      },
      "source": [
        "y_pred_test=forestreg.predict(X_test)"
      ],
      "execution_count": null,
      "outputs": []
    },
    {
      "cell_type": "code",
      "metadata": {
        "id": "SWZxcB6dFox9",
        "colab": {
          "base_uri": "https://localhost:8080/"
        },
        "outputId": "3c1df880-f6fa-422e-ab6c-e2fed37496f9"
      },
      "source": [
        "y_pred_test"
      ],
      "execution_count": null,
      "outputs": [
        {
          "output_type": "execute_result",
          "data": {
            "text/plain": [
              "array([ 2839.73337939, 11472.14721825,  6359.49574878, ...,\n",
              "       19275.44750527,  2063.77429314,  5789.31928571])"
            ]
          },
          "metadata": {
            "tags": []
          },
          "execution_count": 62
        }
      ]
    },
    {
      "cell_type": "code",
      "metadata": {
        "id": "HX4vqP1CFfrH",
        "colab": {
          "base_uri": "https://localhost:8080/"
        },
        "outputId": "14a2d9b4-569b-44b6-a66d-5e29d03efd26"
      },
      "source": [
        "y_test"
      ],
      "execution_count": null,
      "outputs": [
        {
          "output_type": "execute_result",
          "data": {
            "text/plain": [
              "19556     4700\n",
              "4557     12200\n",
              "4486      6200\n",
              "32050      900\n",
              "31371     5550\n",
              "         ...  \n",
              "20268     1900\n",
              "3783      2550\n",
              "29461    20500\n",
              "14685     1750\n",
              "35325     7000\n",
              "Name: priceUSD, Length: 8000, dtype: int64"
            ]
          },
          "metadata": {
            "tags": []
          },
          "execution_count": 63
        }
      ]
    },
    {
      "cell_type": "code",
      "metadata": {
        "id": "xfPnJFExFwWa",
        "colab": {
          "base_uri": "https://localhost:8080/"
        },
        "outputId": "63fa1d02-b9ae-4f6c-f67c-eb1d23fe3036"
      },
      "source": [
        "mean_squared_error(y_test,y_pred_test,squared=False)"
      ],
      "execution_count": null,
      "outputs": [
        {
          "output_type": "execute_result",
          "data": {
            "text/plain": [
              "4098.059188145959"
            ]
          },
          "metadata": {
            "tags": []
          },
          "execution_count": 64
        }
      ]
    },
    {
      "cell_type": "markdown",
      "metadata": {
        "id": "HHVxuLc_5CSI"
      },
      "source": [
        "Now lets try with keeping more columns in the data(absolute value of correlation coefficent greater than 0.1)"
      ]
    },
    {
      "cell_type": "code",
      "metadata": {
        "id": "MVbzgjni6k6P",
        "colab": {
          "base_uri": "https://localhost:8080/",
          "height": 487
        },
        "outputId": "1d6b8602-486c-455b-879e-cfe9c914977d"
      },
      "source": [
        "X_data=df_car[cols_abs[1:]]\n",
        "scaler=StandardScaler()\n",
        "X_data"
      ],
      "execution_count": null,
      "outputs": [
        {
          "output_type": "execute_result",
          "data": {
            "text/html": [
              "<div>\n",
              "<style scoped>\n",
              "    .dataframe tbody tr th:only-of-type {\n",
              "        vertical-align: middle;\n",
              "    }\n",
              "\n",
              "    .dataframe tbody tr th {\n",
              "        vertical-align: top;\n",
              "    }\n",
              "\n",
              "    .dataframe thead th {\n",
              "        text-align: right;\n",
              "    }\n",
              "</style>\n",
              "<table border=\"1\" class=\"dataframe\">\n",
              "  <thead>\n",
              "    <tr style=\"text-align: right;\">\n",
              "      <th></th>\n",
              "      <th>year</th>\n",
              "      <th>mileage(kilometers)</th>\n",
              "      <th>volume(cm3)</th>\n",
              "      <th>all-wheel drive</th>\n",
              "      <th>front-wheel drive</th>\n",
              "      <th>part-time four-wheel drive</th>\n",
              "      <th>C</th>\n",
              "      <th>D</th>\n",
              "      <th>J</th>\n",
              "      <th>S</th>\n",
              "      <th>petrol</th>\n",
              "      <th>auto</th>\n",
              "      <th>mechanics</th>\n",
              "      <th>black</th>\n",
              "      <th>blue</th>\n",
              "      <th>green</th>\n",
              "    </tr>\n",
              "  </thead>\n",
              "  <tbody>\n",
              "    <tr>\n",
              "      <th>0</th>\n",
              "      <td>1993</td>\n",
              "      <td>960015.0</td>\n",
              "      <td>2000.0</td>\n",
              "      <td>0</td>\n",
              "      <td>1</td>\n",
              "      <td>0</td>\n",
              "      <td>0</td>\n",
              "      <td>1</td>\n",
              "      <td>0</td>\n",
              "      <td>0</td>\n",
              "      <td>1</td>\n",
              "      <td>0</td>\n",
              "      <td>1</td>\n",
              "      <td>1</td>\n",
              "      <td>0</td>\n",
              "      <td>0</td>\n",
              "    </tr>\n",
              "    <tr>\n",
              "      <th>1</th>\n",
              "      <td>2008</td>\n",
              "      <td>172000.0</td>\n",
              "      <td>1400.0</td>\n",
              "      <td>0</td>\n",
              "      <td>1</td>\n",
              "      <td>0</td>\n",
              "      <td>0</td>\n",
              "      <td>0</td>\n",
              "      <td>0</td>\n",
              "      <td>0</td>\n",
              "      <td>0</td>\n",
              "      <td>0</td>\n",
              "      <td>1</td>\n",
              "      <td>0</td>\n",
              "      <td>0</td>\n",
              "      <td>0</td>\n",
              "    </tr>\n",
              "    <tr>\n",
              "      <th>2</th>\n",
              "      <td>2008</td>\n",
              "      <td>223000.0</td>\n",
              "      <td>2500.0</td>\n",
              "      <td>0</td>\n",
              "      <td>1</td>\n",
              "      <td>0</td>\n",
              "      <td>0</td>\n",
              "      <td>1</td>\n",
              "      <td>0</td>\n",
              "      <td>0</td>\n",
              "      <td>1</td>\n",
              "      <td>1</td>\n",
              "      <td>0</td>\n",
              "      <td>0</td>\n",
              "      <td>0</td>\n",
              "      <td>0</td>\n",
              "    </tr>\n",
              "    <tr>\n",
              "      <th>3</th>\n",
              "      <td>2005</td>\n",
              "      <td>140000.0</td>\n",
              "      <td>1200.0</td>\n",
              "      <td>0</td>\n",
              "      <td>1</td>\n",
              "      <td>0</td>\n",
              "      <td>0</td>\n",
              "      <td>0</td>\n",
              "      <td>0</td>\n",
              "      <td>0</td>\n",
              "      <td>1</td>\n",
              "      <td>0</td>\n",
              "      <td>1</td>\n",
              "      <td>0</td>\n",
              "      <td>1</td>\n",
              "      <td>0</td>\n",
              "    </tr>\n",
              "    <tr>\n",
              "      <th>4</th>\n",
              "      <td>2002</td>\n",
              "      <td>413000.0</td>\n",
              "      <td>2200.0</td>\n",
              "      <td>0</td>\n",
              "      <td>1</td>\n",
              "      <td>0</td>\n",
              "      <td>0</td>\n",
              "      <td>1</td>\n",
              "      <td>0</td>\n",
              "      <td>0</td>\n",
              "      <td>0</td>\n",
              "      <td>0</td>\n",
              "      <td>1</td>\n",
              "      <td>0</td>\n",
              "      <td>0</td>\n",
              "      <td>0</td>\n",
              "    </tr>\n",
              "    <tr>\n",
              "      <th>...</th>\n",
              "      <td>...</td>\n",
              "      <td>...</td>\n",
              "      <td>...</td>\n",
              "      <td>...</td>\n",
              "      <td>...</td>\n",
              "      <td>...</td>\n",
              "      <td>...</td>\n",
              "      <td>...</td>\n",
              "      <td>...</td>\n",
              "      <td>...</td>\n",
              "      <td>...</td>\n",
              "      <td>...</td>\n",
              "      <td>...</td>\n",
              "      <td>...</td>\n",
              "      <td>...</td>\n",
              "      <td>...</td>\n",
              "    </tr>\n",
              "    <tr>\n",
              "      <th>39995</th>\n",
              "      <td>2008</td>\n",
              "      <td>214000.0</td>\n",
              "      <td>3700.0</td>\n",
              "      <td>1</td>\n",
              "      <td>0</td>\n",
              "      <td>0</td>\n",
              "      <td>0</td>\n",
              "      <td>0</td>\n",
              "      <td>1</td>\n",
              "      <td>0</td>\n",
              "      <td>1</td>\n",
              "      <td>1</td>\n",
              "      <td>0</td>\n",
              "      <td>0</td>\n",
              "      <td>0</td>\n",
              "      <td>0</td>\n",
              "    </tr>\n",
              "    <tr>\n",
              "      <th>39996</th>\n",
              "      <td>2001</td>\n",
              "      <td>295000.0</td>\n",
              "      <td>2200.0</td>\n",
              "      <td>0</td>\n",
              "      <td>1</td>\n",
              "      <td>0</td>\n",
              "      <td>0</td>\n",
              "      <td>0</td>\n",
              "      <td>0</td>\n",
              "      <td>0</td>\n",
              "      <td>1</td>\n",
              "      <td>0</td>\n",
              "      <td>1</td>\n",
              "      <td>0</td>\n",
              "      <td>1</td>\n",
              "      <td>0</td>\n",
              "    </tr>\n",
              "    <tr>\n",
              "      <th>39997</th>\n",
              "      <td>1999</td>\n",
              "      <td>0.0</td>\n",
              "      <td>2200.0</td>\n",
              "      <td>0</td>\n",
              "      <td>0</td>\n",
              "      <td>0</td>\n",
              "      <td>0</td>\n",
              "      <td>1</td>\n",
              "      <td>0</td>\n",
              "      <td>0</td>\n",
              "      <td>0</td>\n",
              "      <td>0</td>\n",
              "      <td>1</td>\n",
              "      <td>0</td>\n",
              "      <td>0</td>\n",
              "      <td>0</td>\n",
              "    </tr>\n",
              "    <tr>\n",
              "      <th>39998</th>\n",
              "      <td>1996</td>\n",
              "      <td>250000.0</td>\n",
              "      <td>1300.0</td>\n",
              "      <td>0</td>\n",
              "      <td>1</td>\n",
              "      <td>0</td>\n",
              "      <td>0</td>\n",
              "      <td>1</td>\n",
              "      <td>0</td>\n",
              "      <td>0</td>\n",
              "      <td>1</td>\n",
              "      <td>0</td>\n",
              "      <td>1</td>\n",
              "      <td>0</td>\n",
              "      <td>0</td>\n",
              "      <td>0</td>\n",
              "    </tr>\n",
              "    <tr>\n",
              "      <th>39999</th>\n",
              "      <td>1986</td>\n",
              "      <td>272344.0</td>\n",
              "      <td>1997.0</td>\n",
              "      <td>0</td>\n",
              "      <td>0</td>\n",
              "      <td>0</td>\n",
              "      <td>0</td>\n",
              "      <td>1</td>\n",
              "      <td>0</td>\n",
              "      <td>0</td>\n",
              "      <td>0</td>\n",
              "      <td>0</td>\n",
              "      <td>1</td>\n",
              "      <td>0</td>\n",
              "      <td>0</td>\n",
              "      <td>0</td>\n",
              "    </tr>\n",
              "  </tbody>\n",
              "</table>\n",
              "<p>40000 rows × 16 columns</p>\n",
              "</div>"
            ],
            "text/plain": [
              "       year  mileage(kilometers)  volume(cm3)  ...  black  blue  green\n",
              "0      1993             960015.0       2000.0  ...      1     0      0\n",
              "1      2008             172000.0       1400.0  ...      0     0      0\n",
              "2      2008             223000.0       2500.0  ...      0     0      0\n",
              "3      2005             140000.0       1200.0  ...      0     1      0\n",
              "4      2002             413000.0       2200.0  ...      0     0      0\n",
              "...     ...                  ...          ...  ...    ...   ...    ...\n",
              "39995  2008             214000.0       3700.0  ...      0     0      0\n",
              "39996  2001             295000.0       2200.0  ...      0     1      0\n",
              "39997  1999                  0.0       2200.0  ...      0     0      0\n",
              "39998  1996             250000.0       1300.0  ...      0     0      0\n",
              "39999  1986             272344.0       1997.0  ...      0     0      0\n",
              "\n",
              "[40000 rows x 16 columns]"
            ]
          },
          "metadata": {
            "tags": []
          },
          "execution_count": 68
        }
      ]
    },
    {
      "cell_type": "code",
      "metadata": {
        "id": "IJ1SZ2u66lHa",
        "colab": {
          "base_uri": "https://localhost:8080/"
        },
        "outputId": "5aff9636-c3bc-433b-f67d-71606e12e0b1"
      },
      "source": [
        "X_data.iloc[:,:3]=scaler.fit_transform(X_data.iloc[:,:3])"
      ],
      "execution_count": null,
      "outputs": [
        {
          "output_type": "stream",
          "text": [
            "/usr/local/lib/python3.6/dist-packages/pandas/core/indexing.py:1734: SettingWithCopyWarning: \n",
            "A value is trying to be set on a copy of a slice from a DataFrame.\n",
            "Try using .loc[row_indexer,col_indexer] = value instead\n",
            "\n",
            "See the caveats in the documentation: https://pandas.pydata.org/pandas-docs/stable/user_guide/indexing.html#returning-a-view-versus-a-copy\n",
            "  isetter(loc, value[:, i].tolist())\n"
          ],
          "name": "stderr"
        }
      ]
    },
    {
      "cell_type": "code",
      "metadata": {
        "id": "P5dDocAB9vaa",
        "colab": {
          "base_uri": "https://localhost:8080/",
          "height": 487
        },
        "outputId": "f4149622-c4c9-473d-a064-474433ec5f95"
      },
      "source": [
        "X_data"
      ],
      "execution_count": null,
      "outputs": [
        {
          "output_type": "execute_result",
          "data": {
            "text/html": [
              "<div>\n",
              "<style scoped>\n",
              "    .dataframe tbody tr th:only-of-type {\n",
              "        vertical-align: middle;\n",
              "    }\n",
              "\n",
              "    .dataframe tbody tr th {\n",
              "        vertical-align: top;\n",
              "    }\n",
              "\n",
              "    .dataframe thead th {\n",
              "        text-align: right;\n",
              "    }\n",
              "</style>\n",
              "<table border=\"1\" class=\"dataframe\">\n",
              "  <thead>\n",
              "    <tr style=\"text-align: right;\">\n",
              "      <th></th>\n",
              "      <th>year</th>\n",
              "      <th>mileage(kilometers)</th>\n",
              "      <th>volume(cm3)</th>\n",
              "      <th>all-wheel drive</th>\n",
              "      <th>front-wheel drive</th>\n",
              "      <th>part-time four-wheel drive</th>\n",
              "      <th>C</th>\n",
              "      <th>D</th>\n",
              "      <th>J</th>\n",
              "      <th>S</th>\n",
              "      <th>petrol</th>\n",
              "      <th>auto</th>\n",
              "      <th>mechanics</th>\n",
              "      <th>black</th>\n",
              "      <th>blue</th>\n",
              "      <th>green</th>\n",
              "    </tr>\n",
              "  </thead>\n",
              "  <tbody>\n",
              "    <tr>\n",
              "      <th>0</th>\n",
              "      <td>-1.292161</td>\n",
              "      <td>2.262657</td>\n",
              "      <td>-0.108096</td>\n",
              "      <td>0</td>\n",
              "      <td>1</td>\n",
              "      <td>0</td>\n",
              "      <td>0</td>\n",
              "      <td>1</td>\n",
              "      <td>0</td>\n",
              "      <td>0</td>\n",
              "      <td>1</td>\n",
              "      <td>0</td>\n",
              "      <td>1</td>\n",
              "      <td>1</td>\n",
              "      <td>0</td>\n",
              "      <td>0</td>\n",
              "    </tr>\n",
              "    <tr>\n",
              "      <th>1</th>\n",
              "      <td>0.556314</td>\n",
              "      <td>-0.225555</td>\n",
              "      <td>-0.746309</td>\n",
              "      <td>0</td>\n",
              "      <td>1</td>\n",
              "      <td>0</td>\n",
              "      <td>0</td>\n",
              "      <td>0</td>\n",
              "      <td>0</td>\n",
              "      <td>0</td>\n",
              "      <td>0</td>\n",
              "      <td>0</td>\n",
              "      <td>1</td>\n",
              "      <td>0</td>\n",
              "      <td>0</td>\n",
              "      <td>0</td>\n",
              "    </tr>\n",
              "    <tr>\n",
              "      <th>2</th>\n",
              "      <td>0.556314</td>\n",
              "      <td>-0.064519</td>\n",
              "      <td>0.423747</td>\n",
              "      <td>0</td>\n",
              "      <td>1</td>\n",
              "      <td>0</td>\n",
              "      <td>0</td>\n",
              "      <td>1</td>\n",
              "      <td>0</td>\n",
              "      <td>0</td>\n",
              "      <td>1</td>\n",
              "      <td>1</td>\n",
              "      <td>0</td>\n",
              "      <td>0</td>\n",
              "      <td>0</td>\n",
              "      <td>0</td>\n",
              "    </tr>\n",
              "    <tr>\n",
              "      <th>3</th>\n",
              "      <td>0.186619</td>\n",
              "      <td>-0.326597</td>\n",
              "      <td>-0.959047</td>\n",
              "      <td>0</td>\n",
              "      <td>1</td>\n",
              "      <td>0</td>\n",
              "      <td>0</td>\n",
              "      <td>0</td>\n",
              "      <td>0</td>\n",
              "      <td>0</td>\n",
              "      <td>1</td>\n",
              "      <td>0</td>\n",
              "      <td>1</td>\n",
              "      <td>0</td>\n",
              "      <td>1</td>\n",
              "      <td>0</td>\n",
              "    </tr>\n",
              "    <tr>\n",
              "      <th>4</th>\n",
              "      <td>-0.183076</td>\n",
              "      <td>0.535419</td>\n",
              "      <td>0.104641</td>\n",
              "      <td>0</td>\n",
              "      <td>1</td>\n",
              "      <td>0</td>\n",
              "      <td>0</td>\n",
              "      <td>1</td>\n",
              "      <td>0</td>\n",
              "      <td>0</td>\n",
              "      <td>0</td>\n",
              "      <td>0</td>\n",
              "      <td>1</td>\n",
              "      <td>0</td>\n",
              "      <td>0</td>\n",
              "      <td>0</td>\n",
              "    </tr>\n",
              "    <tr>\n",
              "      <th>...</th>\n",
              "      <td>...</td>\n",
              "      <td>...</td>\n",
              "      <td>...</td>\n",
              "      <td>...</td>\n",
              "      <td>...</td>\n",
              "      <td>...</td>\n",
              "      <td>...</td>\n",
              "      <td>...</td>\n",
              "      <td>...</td>\n",
              "      <td>...</td>\n",
              "      <td>...</td>\n",
              "      <td>...</td>\n",
              "      <td>...</td>\n",
              "      <td>...</td>\n",
              "      <td>...</td>\n",
              "      <td>...</td>\n",
              "    </tr>\n",
              "    <tr>\n",
              "      <th>39995</th>\n",
              "      <td>0.556314</td>\n",
              "      <td>-0.092937</td>\n",
              "      <td>1.700173</td>\n",
              "      <td>1</td>\n",
              "      <td>0</td>\n",
              "      <td>0</td>\n",
              "      <td>0</td>\n",
              "      <td>0</td>\n",
              "      <td>1</td>\n",
              "      <td>0</td>\n",
              "      <td>1</td>\n",
              "      <td>1</td>\n",
              "      <td>0</td>\n",
              "      <td>0</td>\n",
              "      <td>0</td>\n",
              "      <td>0</td>\n",
              "    </tr>\n",
              "    <tr>\n",
              "      <th>39996</th>\n",
              "      <td>-0.306308</td>\n",
              "      <td>0.162826</td>\n",
              "      <td>0.104641</td>\n",
              "      <td>0</td>\n",
              "      <td>1</td>\n",
              "      <td>0</td>\n",
              "      <td>0</td>\n",
              "      <td>0</td>\n",
              "      <td>0</td>\n",
              "      <td>0</td>\n",
              "      <td>1</td>\n",
              "      <td>0</td>\n",
              "      <td>1</td>\n",
              "      <td>0</td>\n",
              "      <td>1</td>\n",
              "      <td>0</td>\n",
              "    </tr>\n",
              "    <tr>\n",
              "      <th>39997</th>\n",
              "      <td>-0.552771</td>\n",
              "      <td>-0.768657</td>\n",
              "      <td>0.104641</td>\n",
              "      <td>0</td>\n",
              "      <td>0</td>\n",
              "      <td>0</td>\n",
              "      <td>0</td>\n",
              "      <td>1</td>\n",
              "      <td>0</td>\n",
              "      <td>0</td>\n",
              "      <td>0</td>\n",
              "      <td>0</td>\n",
              "      <td>1</td>\n",
              "      <td>0</td>\n",
              "      <td>0</td>\n",
              "      <td>0</td>\n",
              "    </tr>\n",
              "    <tr>\n",
              "      <th>39998</th>\n",
              "      <td>-0.922466</td>\n",
              "      <td>0.020735</td>\n",
              "      <td>-0.852678</td>\n",
              "      <td>0</td>\n",
              "      <td>1</td>\n",
              "      <td>0</td>\n",
              "      <td>0</td>\n",
              "      <td>1</td>\n",
              "      <td>0</td>\n",
              "      <td>0</td>\n",
              "      <td>1</td>\n",
              "      <td>0</td>\n",
              "      <td>1</td>\n",
              "      <td>0</td>\n",
              "      <td>0</td>\n",
              "      <td>0</td>\n",
              "    </tr>\n",
              "    <tr>\n",
              "      <th>39999</th>\n",
              "      <td>-2.154783</td>\n",
              "      <td>0.091288</td>\n",
              "      <td>-0.111288</td>\n",
              "      <td>0</td>\n",
              "      <td>0</td>\n",
              "      <td>0</td>\n",
              "      <td>0</td>\n",
              "      <td>1</td>\n",
              "      <td>0</td>\n",
              "      <td>0</td>\n",
              "      <td>0</td>\n",
              "      <td>0</td>\n",
              "      <td>1</td>\n",
              "      <td>0</td>\n",
              "      <td>0</td>\n",
              "      <td>0</td>\n",
              "    </tr>\n",
              "  </tbody>\n",
              "</table>\n",
              "<p>40000 rows × 16 columns</p>\n",
              "</div>"
            ],
            "text/plain": [
              "           year  mileage(kilometers)  volume(cm3)  ...  black  blue  green\n",
              "0     -1.292161             2.262657    -0.108096  ...      1     0      0\n",
              "1      0.556314            -0.225555    -0.746309  ...      0     0      0\n",
              "2      0.556314            -0.064519     0.423747  ...      0     0      0\n",
              "3      0.186619            -0.326597    -0.959047  ...      0     1      0\n",
              "4     -0.183076             0.535419     0.104641  ...      0     0      0\n",
              "...         ...                  ...          ...  ...    ...   ...    ...\n",
              "39995  0.556314            -0.092937     1.700173  ...      0     0      0\n",
              "39996 -0.306308             0.162826     0.104641  ...      0     1      0\n",
              "39997 -0.552771            -0.768657     0.104641  ...      0     0      0\n",
              "39998 -0.922466             0.020735    -0.852678  ...      0     0      0\n",
              "39999 -2.154783             0.091288    -0.111288  ...      0     0      0\n",
              "\n",
              "[40000 rows x 16 columns]"
            ]
          },
          "metadata": {
            "tags": []
          },
          "execution_count": 70
        }
      ]
    },
    {
      "cell_type": "code",
      "metadata": {
        "id": "lLab_7ze6lM_"
      },
      "source": [
        "X_train_abs, X_test_abs, y_train_abs, y_test_abs=train_test_split(X_data,df_car_labels,test_size=0.2)"
      ],
      "execution_count": null,
      "outputs": []
    },
    {
      "cell_type": "code",
      "metadata": {
        "id": "-0od0LD_7Nfg"
      },
      "source": [
        "foreg=RandomForestRegressor()"
      ],
      "execution_count": null,
      "outputs": []
    },
    {
      "cell_type": "code",
      "metadata": {
        "id": "onQxcusV8w9G",
        "colab": {
          "base_uri": "https://localhost:8080/"
        },
        "outputId": "e5116d04-602f-4b05-f152-ac665697ea5d"
      },
      "source": [
        "foreg.fit(X_train_abs,y_train_abs)"
      ],
      "execution_count": null,
      "outputs": [
        {
          "output_type": "execute_result",
          "data": {
            "text/plain": [
              "RandomForestRegressor(bootstrap=True, ccp_alpha=0.0, criterion='mse',\n",
              "                      max_depth=None, max_features='auto', max_leaf_nodes=None,\n",
              "                      max_samples=None, min_impurity_decrease=0.0,\n",
              "                      min_impurity_split=None, min_samples_leaf=1,\n",
              "                      min_samples_split=2, min_weight_fraction_leaf=0.0,\n",
              "                      n_estimators=100, n_jobs=None, oob_score=False,\n",
              "                      random_state=None, verbose=0, warm_start=False)"
            ]
          },
          "metadata": {
            "tags": []
          },
          "execution_count": 99
        }
      ]
    },
    {
      "cell_type": "code",
      "metadata": {
        "id": "TEAmzRB_80Hr"
      },
      "source": [
        "y_pred_abs=foreg.predict(X_train_abs)"
      ],
      "execution_count": null,
      "outputs": []
    },
    {
      "cell_type": "code",
      "metadata": {
        "id": "8S0eYwny83Nd",
        "colab": {
          "base_uri": "https://localhost:8080/"
        },
        "outputId": "c7cc0ae8-1a64-4d78-f446-20e4f90c8399"
      },
      "source": [
        "#Root mean squared error\n",
        "mean_squared_error(y_train_abs,y_pred_abs,squared=False)#default setting of hyperparameters gives us best result"
      ],
      "execution_count": null,
      "outputs": [
        {
          "output_type": "execute_result",
          "data": {
            "text/plain": [
              "1309.4342677773684"
            ]
          },
          "metadata": {
            "tags": []
          },
          "execution_count": 101
        }
      ]
    },
    {
      "cell_type": "code",
      "metadata": {
        "id": "5psqhxS5DD5C",
        "colab": {
          "base_uri": "https://localhost:8080/"
        },
        "outputId": "2c93d973-8e5c-4219-9c1e-08c5252cf1b5"
      },
      "source": [
        "foreg.score(X_train_abs,y_train_abs)# R^2 value"
      ],
      "execution_count": null,
      "outputs": [
        {
          "output_type": "execute_result",
          "data": {
            "text/plain": [
              "0.9753204708422863"
            ]
          },
          "metadata": {
            "tags": []
          },
          "execution_count": 79
        }
      ]
    },
    {
      "cell_type": "markdown",
      "metadata": {
        "id": "QpNRrklu8kt9"
      },
      "source": [
        "We can try randomized search for hyperparameters if any other value other than the defaults perform any better"
      ]
    },
    {
      "cell_type": "code",
      "metadata": {
        "id": "-Qa8yPyr_6YO"
      },
      "source": [
        "from sklearn.model_selection import RandomizedSearchCV\n",
        "# Number of trees in random forest\n",
        "n_estimators = [int(x) for x in np.linspace(start = 200, stop = 2000, num = 10)]\n",
        "# Number of features to consider at every split\n",
        "max_features = ['auto', 'sqrt']\n",
        "# Maximum number of levels in tree\n",
        "max_depth = [int(x) for x in np.linspace(10, 110, num = 11)]\n",
        "max_depth.append(None)\n",
        "# Minimum number of samples required to split a node\n",
        "min_samples_split = [2, 5, 10]\n",
        "# Minimum number of samples required at each leaf node\n",
        "min_samples_leaf = [1, 2, 4]\n",
        "# Method of selecting samples for training each tree\n",
        "bootstrap = [True, False]\n",
        "# Create the random grid\n",
        "random_grid = {'n_estimators': n_estimators,\n",
        "               'max_features': max_features,\n",
        "               'max_depth': max_depth,\n",
        "               'min_samples_split': min_samples_split,\n",
        "               'min_samples_leaf': min_samples_leaf,\n",
        "               'bootstrap': bootstrap}"
      ],
      "execution_count": null,
      "outputs": []
    },
    {
      "cell_type": "code",
      "metadata": {
        "id": "E74uvKBl_7t7",
        "colab": {
          "base_uri": "https://localhost:8080/"
        },
        "outputId": "bd23e16e-326a-4f2c-93d9-0b010b5d6b91"
      },
      "source": [
        "randcv=RandomizedSearchCV(forestreg,random_grid,verbose=4)\n",
        "randcv.fit(X_train_abs,y_train_abs)"
      ],
      "execution_count": null,
      "outputs": [
        {
          "output_type": "stream",
          "text": [
            "Fitting 5 folds for each of 10 candidates, totalling 50 fits\n",
            "[CV] n_estimators=400, min_samples_split=2, min_samples_leaf=2, max_features=auto, max_depth=110, bootstrap=False \n"
          ],
          "name": "stdout"
        },
        {
          "output_type": "stream",
          "text": [
            "[Parallel(n_jobs=1)]: Using backend SequentialBackend with 1 concurrent workers.\n"
          ],
          "name": "stderr"
        },
        {
          "output_type": "stream",
          "text": [
            "[CV]  n_estimators=400, min_samples_split=2, min_samples_leaf=2, max_features=auto, max_depth=110, bootstrap=False, score=0.814, total=  40.5s\n",
            "[CV] n_estimators=400, min_samples_split=2, min_samples_leaf=2, max_features=auto, max_depth=110, bootstrap=False \n"
          ],
          "name": "stdout"
        },
        {
          "output_type": "stream",
          "text": [
            "[Parallel(n_jobs=1)]: Done   1 out of   1 | elapsed:   40.5s remaining:    0.0s\n"
          ],
          "name": "stderr"
        },
        {
          "output_type": "stream",
          "text": [
            "[CV]  n_estimators=400, min_samples_split=2, min_samples_leaf=2, max_features=auto, max_depth=110, bootstrap=False, score=0.820, total=  40.3s\n",
            "[CV] n_estimators=400, min_samples_split=2, min_samples_leaf=2, max_features=auto, max_depth=110, bootstrap=False \n"
          ],
          "name": "stdout"
        },
        {
          "output_type": "stream",
          "text": [
            "[Parallel(n_jobs=1)]: Done   2 out of   2 | elapsed:  1.3min remaining:    0.0s\n"
          ],
          "name": "stderr"
        },
        {
          "output_type": "stream",
          "text": [
            "[CV]  n_estimators=400, min_samples_split=2, min_samples_leaf=2, max_features=auto, max_depth=110, bootstrap=False, score=0.836, total=  41.5s\n",
            "[CV] n_estimators=400, min_samples_split=2, min_samples_leaf=2, max_features=auto, max_depth=110, bootstrap=False \n"
          ],
          "name": "stdout"
        },
        {
          "output_type": "stream",
          "text": [
            "[Parallel(n_jobs=1)]: Done   3 out of   3 | elapsed:  2.0min remaining:    0.0s\n"
          ],
          "name": "stderr"
        },
        {
          "output_type": "stream",
          "text": [
            "[CV]  n_estimators=400, min_samples_split=2, min_samples_leaf=2, max_features=auto, max_depth=110, bootstrap=False, score=0.822, total=  40.1s\n",
            "[CV] n_estimators=400, min_samples_split=2, min_samples_leaf=2, max_features=auto, max_depth=110, bootstrap=False \n",
            "[CV]  n_estimators=400, min_samples_split=2, min_samples_leaf=2, max_features=auto, max_depth=110, bootstrap=False, score=0.832, total=  40.1s\n",
            "[CV] n_estimators=1800, min_samples_split=5, min_samples_leaf=4, max_features=sqrt, max_depth=100, bootstrap=True \n",
            "[CV]  n_estimators=1800, min_samples_split=5, min_samples_leaf=4, max_features=sqrt, max_depth=100, bootstrap=True, score=0.857, total=  29.4s\n",
            "[CV] n_estimators=1800, min_samples_split=5, min_samples_leaf=4, max_features=sqrt, max_depth=100, bootstrap=True \n",
            "[CV]  n_estimators=1800, min_samples_split=5, min_samples_leaf=4, max_features=sqrt, max_depth=100, bootstrap=True, score=0.819, total=  29.4s\n",
            "[CV] n_estimators=1800, min_samples_split=5, min_samples_leaf=4, max_features=sqrt, max_depth=100, bootstrap=True \n",
            "[CV]  n_estimators=1800, min_samples_split=5, min_samples_leaf=4, max_features=sqrt, max_depth=100, bootstrap=True, score=0.890, total=  30.1s\n",
            "[CV] n_estimators=1800, min_samples_split=5, min_samples_leaf=4, max_features=sqrt, max_depth=100, bootstrap=True \n",
            "[CV]  n_estimators=1800, min_samples_split=5, min_samples_leaf=4, max_features=sqrt, max_depth=100, bootstrap=True, score=0.857, total=  30.4s\n",
            "[CV] n_estimators=1800, min_samples_split=5, min_samples_leaf=4, max_features=sqrt, max_depth=100, bootstrap=True \n",
            "[CV]  n_estimators=1800, min_samples_split=5, min_samples_leaf=4, max_features=sqrt, max_depth=100, bootstrap=True, score=0.873, total=  29.5s\n",
            "[CV] n_estimators=800, min_samples_split=10, min_samples_leaf=2, max_features=auto, max_depth=None, bootstrap=False \n",
            "[CV]  n_estimators=800, min_samples_split=10, min_samples_leaf=2, max_features=auto, max_depth=None, bootstrap=False, score=0.843, total= 1.2min\n",
            "[CV] n_estimators=800, min_samples_split=10, min_samples_leaf=2, max_features=auto, max_depth=None, bootstrap=False \n",
            "[CV]  n_estimators=800, min_samples_split=10, min_samples_leaf=2, max_features=auto, max_depth=None, bootstrap=False, score=0.827, total= 1.2min\n",
            "[CV] n_estimators=800, min_samples_split=10, min_samples_leaf=2, max_features=auto, max_depth=None, bootstrap=False \n",
            "[CV]  n_estimators=800, min_samples_split=10, min_samples_leaf=2, max_features=auto, max_depth=None, bootstrap=False, score=0.844, total= 1.2min\n",
            "[CV] n_estimators=800, min_samples_split=10, min_samples_leaf=2, max_features=auto, max_depth=None, bootstrap=False \n",
            "[CV]  n_estimators=800, min_samples_split=10, min_samples_leaf=2, max_features=auto, max_depth=None, bootstrap=False, score=0.825, total= 1.2min\n",
            "[CV] n_estimators=800, min_samples_split=10, min_samples_leaf=2, max_features=auto, max_depth=None, bootstrap=False \n",
            "[CV]  n_estimators=800, min_samples_split=10, min_samples_leaf=2, max_features=auto, max_depth=None, bootstrap=False, score=0.848, total= 1.2min\n",
            "[CV] n_estimators=200, min_samples_split=10, min_samples_leaf=2, max_features=auto, max_depth=30, bootstrap=True \n",
            "[CV]  n_estimators=200, min_samples_split=10, min_samples_leaf=2, max_features=auto, max_depth=30, bootstrap=True, score=0.881, total=  11.6s\n",
            "[CV] n_estimators=200, min_samples_split=10, min_samples_leaf=2, max_features=auto, max_depth=30, bootstrap=True \n",
            "[CV]  n_estimators=200, min_samples_split=10, min_samples_leaf=2, max_features=auto, max_depth=30, bootstrap=True, score=0.869, total=  13.0s\n",
            "[CV] n_estimators=200, min_samples_split=10, min_samples_leaf=2, max_features=auto, max_depth=30, bootstrap=True \n",
            "[CV]  n_estimators=200, min_samples_split=10, min_samples_leaf=2, max_features=auto, max_depth=30, bootstrap=True, score=0.879, total=  11.5s\n",
            "[CV] n_estimators=200, min_samples_split=10, min_samples_leaf=2, max_features=auto, max_depth=30, bootstrap=True \n",
            "[CV]  n_estimators=200, min_samples_split=10, min_samples_leaf=2, max_features=auto, max_depth=30, bootstrap=True, score=0.862, total=  11.4s\n",
            "[CV] n_estimators=200, min_samples_split=10, min_samples_leaf=2, max_features=auto, max_depth=30, bootstrap=True \n",
            "[CV]  n_estimators=200, min_samples_split=10, min_samples_leaf=2, max_features=auto, max_depth=30, bootstrap=True, score=0.888, total=  11.5s\n",
            "[CV] n_estimators=400, min_samples_split=10, min_samples_leaf=4, max_features=sqrt, max_depth=60, bootstrap=True \n",
            "[CV]  n_estimators=400, min_samples_split=10, min_samples_leaf=4, max_features=sqrt, max_depth=60, bootstrap=True, score=0.857, total=   6.5s\n",
            "[CV] n_estimators=400, min_samples_split=10, min_samples_leaf=4, max_features=sqrt, max_depth=60, bootstrap=True \n",
            "[CV]  n_estimators=400, min_samples_split=10, min_samples_leaf=4, max_features=sqrt, max_depth=60, bootstrap=True, score=0.820, total=   6.4s\n",
            "[CV] n_estimators=400, min_samples_split=10, min_samples_leaf=4, max_features=sqrt, max_depth=60, bootstrap=True \n",
            "[CV]  n_estimators=400, min_samples_split=10, min_samples_leaf=4, max_features=sqrt, max_depth=60, bootstrap=True, score=0.890, total=   6.4s\n",
            "[CV] n_estimators=400, min_samples_split=10, min_samples_leaf=4, max_features=sqrt, max_depth=60, bootstrap=True \n",
            "[CV]  n_estimators=400, min_samples_split=10, min_samples_leaf=4, max_features=sqrt, max_depth=60, bootstrap=True, score=0.856, total=   6.5s\n",
            "[CV] n_estimators=400, min_samples_split=10, min_samples_leaf=4, max_features=sqrt, max_depth=60, bootstrap=True \n",
            "[CV]  n_estimators=400, min_samples_split=10, min_samples_leaf=4, max_features=sqrt, max_depth=60, bootstrap=True, score=0.871, total=   6.4s\n",
            "[CV] n_estimators=1800, min_samples_split=10, min_samples_leaf=4, max_features=auto, max_depth=10, bootstrap=True \n",
            "[CV]  n_estimators=1800, min_samples_split=10, min_samples_leaf=4, max_features=auto, max_depth=10, bootstrap=True, score=0.877, total= 1.2min\n",
            "[CV] n_estimators=1800, min_samples_split=10, min_samples_leaf=4, max_features=auto, max_depth=10, bootstrap=True \n",
            "[CV]  n_estimators=1800, min_samples_split=10, min_samples_leaf=4, max_features=auto, max_depth=10, bootstrap=True, score=0.865, total= 1.2min\n",
            "[CV] n_estimators=1800, min_samples_split=10, min_samples_leaf=4, max_features=auto, max_depth=10, bootstrap=True \n",
            "[CV]  n_estimators=1800, min_samples_split=10, min_samples_leaf=4, max_features=auto, max_depth=10, bootstrap=True, score=0.876, total= 1.2min\n",
            "[CV] n_estimators=1800, min_samples_split=10, min_samples_leaf=4, max_features=auto, max_depth=10, bootstrap=True \n",
            "[CV]  n_estimators=1800, min_samples_split=10, min_samples_leaf=4, max_features=auto, max_depth=10, bootstrap=True, score=0.862, total= 1.2min\n",
            "[CV] n_estimators=1800, min_samples_split=10, min_samples_leaf=4, max_features=auto, max_depth=10, bootstrap=True \n",
            "[CV]  n_estimators=1800, min_samples_split=10, min_samples_leaf=4, max_features=auto, max_depth=10, bootstrap=True, score=0.887, total= 1.2min\n",
            "[CV] n_estimators=1800, min_samples_split=2, min_samples_leaf=1, max_features=auto, max_depth=10, bootstrap=False \n",
            "[CV]  n_estimators=1800, min_samples_split=2, min_samples_leaf=1, max_features=auto, max_depth=10, bootstrap=False, score=0.845, total= 1.8min\n",
            "[CV] n_estimators=1800, min_samples_split=2, min_samples_leaf=1, max_features=auto, max_depth=10, bootstrap=False \n",
            "[CV]  n_estimators=1800, min_samples_split=2, min_samples_leaf=1, max_features=auto, max_depth=10, bootstrap=False, score=0.843, total= 1.8min\n",
            "[CV] n_estimators=1800, min_samples_split=2, min_samples_leaf=1, max_features=auto, max_depth=10, bootstrap=False \n",
            "[CV]  n_estimators=1800, min_samples_split=2, min_samples_leaf=1, max_features=auto, max_depth=10, bootstrap=False, score=0.835, total= 1.8min\n",
            "[CV] n_estimators=1800, min_samples_split=2, min_samples_leaf=1, max_features=auto, max_depth=10, bootstrap=False \n",
            "[CV]  n_estimators=1800, min_samples_split=2, min_samples_leaf=1, max_features=auto, max_depth=10, bootstrap=False, score=0.838, total= 1.8min\n",
            "[CV] n_estimators=1800, min_samples_split=2, min_samples_leaf=1, max_features=auto, max_depth=10, bootstrap=False \n",
            "[CV]  n_estimators=1800, min_samples_split=2, min_samples_leaf=1, max_features=auto, max_depth=10, bootstrap=False, score=0.862, total= 1.8min\n",
            "[CV] n_estimators=1400, min_samples_split=10, min_samples_leaf=2, max_features=auto, max_depth=40, bootstrap=True \n",
            "[CV]  n_estimators=1400, min_samples_split=10, min_samples_leaf=2, max_features=auto, max_depth=40, bootstrap=True, score=0.881, total= 1.3min\n",
            "[CV] n_estimators=1400, min_samples_split=10, min_samples_leaf=2, max_features=auto, max_depth=40, bootstrap=True \n",
            "[CV]  n_estimators=1400, min_samples_split=10, min_samples_leaf=2, max_features=auto, max_depth=40, bootstrap=True, score=0.870, total= 1.3min\n",
            "[CV] n_estimators=1400, min_samples_split=10, min_samples_leaf=2, max_features=auto, max_depth=40, bootstrap=True \n",
            "[CV]  n_estimators=1400, min_samples_split=10, min_samples_leaf=2, max_features=auto, max_depth=40, bootstrap=True, score=0.880, total= 1.4min\n",
            "[CV] n_estimators=1400, min_samples_split=10, min_samples_leaf=2, max_features=auto, max_depth=40, bootstrap=True \n",
            "[CV]  n_estimators=1400, min_samples_split=10, min_samples_leaf=2, max_features=auto, max_depth=40, bootstrap=True, score=0.864, total= 1.3min\n",
            "[CV] n_estimators=1400, min_samples_split=10, min_samples_leaf=2, max_features=auto, max_depth=40, bootstrap=True \n",
            "[CV]  n_estimators=1400, min_samples_split=10, min_samples_leaf=2, max_features=auto, max_depth=40, bootstrap=True, score=0.889, total= 1.3min\n",
            "[CV] n_estimators=600, min_samples_split=2, min_samples_leaf=4, max_features=sqrt, max_depth=40, bootstrap=False \n",
            "[CV]  n_estimators=600, min_samples_split=2, min_samples_leaf=4, max_features=sqrt, max_depth=40, bootstrap=False, score=0.868, total=  14.2s\n",
            "[CV] n_estimators=600, min_samples_split=2, min_samples_leaf=4, max_features=sqrt, max_depth=40, bootstrap=False \n",
            "[CV]  n_estimators=600, min_samples_split=2, min_samples_leaf=4, max_features=sqrt, max_depth=40, bootstrap=False, score=0.832, total=  13.9s\n",
            "[CV] n_estimators=600, min_samples_split=2, min_samples_leaf=4, max_features=sqrt, max_depth=40, bootstrap=False \n",
            "[CV]  n_estimators=600, min_samples_split=2, min_samples_leaf=4, max_features=sqrt, max_depth=40, bootstrap=False, score=0.894, total=  14.0s\n",
            "[CV] n_estimators=600, min_samples_split=2, min_samples_leaf=4, max_features=sqrt, max_depth=40, bootstrap=False \n",
            "[CV]  n_estimators=600, min_samples_split=2, min_samples_leaf=4, max_features=sqrt, max_depth=40, bootstrap=False, score=0.862, total=  14.0s\n",
            "[CV] n_estimators=600, min_samples_split=2, min_samples_leaf=4, max_features=sqrt, max_depth=40, bootstrap=False \n",
            "[CV]  n_estimators=600, min_samples_split=2, min_samples_leaf=4, max_features=sqrt, max_depth=40, bootstrap=False, score=0.878, total=  13.9s\n",
            "[CV] n_estimators=1000, min_samples_split=2, min_samples_leaf=2, max_features=sqrt, max_depth=50, bootstrap=True \n",
            "[CV]  n_estimators=1000, min_samples_split=2, min_samples_leaf=2, max_features=sqrt, max_depth=50, bootstrap=True, score=0.872, total=  20.4s\n",
            "[CV] n_estimators=1000, min_samples_split=2, min_samples_leaf=2, max_features=sqrt, max_depth=50, bootstrap=True \n",
            "[CV]  n_estimators=1000, min_samples_split=2, min_samples_leaf=2, max_features=sqrt, max_depth=50, bootstrap=True, score=0.839, total=  21.5s\n",
            "[CV] n_estimators=1000, min_samples_split=2, min_samples_leaf=2, max_features=sqrt, max_depth=50, bootstrap=True \n",
            "[CV]  n_estimators=1000, min_samples_split=2, min_samples_leaf=2, max_features=sqrt, max_depth=50, bootstrap=True, score=0.896, total=  21.2s\n",
            "[CV] n_estimators=1000, min_samples_split=2, min_samples_leaf=2, max_features=sqrt, max_depth=50, bootstrap=True \n",
            "[CV]  n_estimators=1000, min_samples_split=2, min_samples_leaf=2, max_features=sqrt, max_depth=50, bootstrap=True, score=0.864, total=  20.3s\n",
            "[CV] n_estimators=1000, min_samples_split=2, min_samples_leaf=2, max_features=sqrt, max_depth=50, bootstrap=True \n",
            "[CV]  n_estimators=1000, min_samples_split=2, min_samples_leaf=2, max_features=sqrt, max_depth=50, bootstrap=True, score=0.882, total=  20.3s\n"
          ],
          "name": "stdout"
        },
        {
          "output_type": "stream",
          "text": [
            "[Parallel(n_jobs=1)]: Done  50 out of  50 | elapsed: 38.1min finished\n"
          ],
          "name": "stderr"
        },
        {
          "output_type": "execute_result",
          "data": {
            "text/plain": [
              "RandomizedSearchCV(cv=None, error_score=nan,\n",
              "                   estimator=RandomForestRegressor(bootstrap=True,\n",
              "                                                   ccp_alpha=0.0,\n",
              "                                                   criterion='mse',\n",
              "                                                   max_depth=None,\n",
              "                                                   max_features='auto',\n",
              "                                                   max_leaf_nodes=None,\n",
              "                                                   max_samples=None,\n",
              "                                                   min_impurity_decrease=0.0,\n",
              "                                                   min_impurity_split=None,\n",
              "                                                   min_samples_leaf=1,\n",
              "                                                   min_samples_split=2,\n",
              "                                                   min_weight_fraction_leaf=0.0,\n",
              "                                                   n_estimators=100,\n",
              "                                                   n_jobs=None, oob_score=F...\n",
              "                   param_distributions={'bootstrap': [True, False],\n",
              "                                        'max_depth': [10, 20, 30, 40, 50, 60,\n",
              "                                                      70, 80, 90, 100, 110,\n",
              "                                                      None],\n",
              "                                        'max_features': ['auto', 'sqrt'],\n",
              "                                        'min_samples_leaf': [1, 2, 4],\n",
              "                                        'min_samples_split': [2, 5, 10],\n",
              "                                        'n_estimators': [200, 400, 600, 800,\n",
              "                                                         1000, 1200, 1400, 1600,\n",
              "                                                         1800, 2000]},\n",
              "                   pre_dispatch='2*n_jobs', random_state=None, refit=True,\n",
              "                   return_train_score=False, scoring=None, verbose=4)"
            ]
          },
          "metadata": {
            "tags": []
          },
          "execution_count": 334
        }
      ]
    },
    {
      "cell_type": "code",
      "metadata": {
        "id": "rVsn6tZsAdq4",
        "colab": {
          "base_uri": "https://localhost:8080/"
        },
        "outputId": "805a3ab5-d19a-4f5e-e074-b78977b8b8ef"
      },
      "source": [
        "mean_squared_error(randcv.best_estimator_.predict(X_train_abs),y_train_abs,squared=False)"
      ],
      "execution_count": null,
      "outputs": [
        {
          "output_type": "execute_result",
          "data": {
            "text/plain": [
              "1951.8226292317042"
            ]
          },
          "metadata": {
            "tags": []
          },
          "execution_count": 338
        }
      ]
    },
    {
      "cell_type": "markdown",
      "metadata": {
        "id": "QKN3vllr7nme"
      },
      "source": [
        "The error comes out to be higher! ,this means that default values of hyperparameters works fine"
      ]
    },
    {
      "cell_type": "markdown",
      "metadata": {
        "id": "6_gppPDX3zEu"
      },
      "source": [
        "Lets try it out with all columns included by encoding the make and model columns using a bacward difference encoder"
      ]
    },
    {
      "cell_type": "code",
      "metadata": {
        "id": "thAN71YYPfYy",
        "colab": {
          "base_uri": "https://localhost:8080/"
        },
        "outputId": "eb230ca2-af05-4e12-842e-d93f14798872"
      },
      "source": [
        "!pip install category_encoders\n",
        "import category_encoders as ce\n",
        "df_copy=df_car.copy()"
      ],
      "execution_count": null,
      "outputs": [
        {
          "output_type": "stream",
          "text": [
            "Collecting category_encoders\n",
            "\u001b[?25l  Downloading https://files.pythonhosted.org/packages/44/57/fcef41c248701ee62e8325026b90c432adea35555cbc870aff9cfba23727/category_encoders-2.2.2-py2.py3-none-any.whl (80kB)\n",
            "\r\u001b[K     |████                            | 10kB 17.4MB/s eta 0:00:01\r\u001b[K     |████████▏                       | 20kB 22.3MB/s eta 0:00:01\r\u001b[K     |████████████▏                   | 30kB 18.3MB/s eta 0:00:01\r\u001b[K     |████████████████▎               | 40kB 16.9MB/s eta 0:00:01\r\u001b[K     |████████████████████▎           | 51kB 16.4MB/s eta 0:00:01\r\u001b[K     |████████████████████████▍       | 61kB 18.5MB/s eta 0:00:01\r\u001b[K     |████████████████████████████▍   | 71kB 12.5MB/s eta 0:00:01\r\u001b[K     |████████████████████████████████| 81kB 6.0MB/s \n",
            "\u001b[?25hRequirement already satisfied: patsy>=0.5.1 in /usr/local/lib/python3.6/dist-packages (from category_encoders) (0.5.1)\n",
            "Requirement already satisfied: pandas>=0.21.1 in /usr/local/lib/python3.6/dist-packages (from category_encoders) (1.1.4)\n",
            "Requirement already satisfied: numpy>=1.14.0 in /usr/local/lib/python3.6/dist-packages (from category_encoders) (1.18.5)\n",
            "Requirement already satisfied: statsmodels>=0.9.0 in /usr/local/lib/python3.6/dist-packages (from category_encoders) (0.10.2)\n",
            "Requirement already satisfied: scikit-learn>=0.20.0 in /usr/local/lib/python3.6/dist-packages (from category_encoders) (0.22.2.post1)\n",
            "Requirement already satisfied: scipy>=1.0.0 in /usr/local/lib/python3.6/dist-packages (from category_encoders) (1.4.1)\n",
            "Requirement already satisfied: six in /usr/local/lib/python3.6/dist-packages (from patsy>=0.5.1->category_encoders) (1.15.0)\n",
            "Requirement already satisfied: pytz>=2017.2 in /usr/local/lib/python3.6/dist-packages (from pandas>=0.21.1->category_encoders) (2018.9)\n",
            "Requirement already satisfied: python-dateutil>=2.7.3 in /usr/local/lib/python3.6/dist-packages (from pandas>=0.21.1->category_encoders) (2.8.1)\n",
            "Requirement already satisfied: joblib>=0.11 in /usr/local/lib/python3.6/dist-packages (from scikit-learn>=0.20.0->category_encoders) (0.17.0)\n",
            "Installing collected packages: category-encoders\n",
            "Successfully installed category-encoders-2.2.2\n"
          ],
          "name": "stdout"
        },
        {
          "output_type": "stream",
          "text": [
            "/usr/local/lib/python3.6/dist-packages/statsmodels/tools/_testing.py:19: FutureWarning: pandas.util.testing is deprecated. Use the functions in the public API at pandas.testing instead.\n",
            "  import pandas.util.testing as tm\n"
          ],
          "name": "stderr"
        }
      ]
    },
    {
      "cell_type": "code",
      "metadata": {
        "colab": {
          "base_uri": "https://localhost:8080/",
          "height": 537
        },
        "id": "f1MFd9aB4MeB",
        "outputId": "209986f0-7373-4c49-9fbe-55cdb15ceb8f"
      },
      "source": [
        "cols=['make','model']\n",
        "df_copy"
      ],
      "execution_count": null,
      "outputs": [
        {
          "output_type": "execute_result",
          "data": {
            "text/html": [
              "<div>\n",
              "<style scoped>\n",
              "    .dataframe tbody tr th:only-of-type {\n",
              "        vertical-align: middle;\n",
              "    }\n",
              "\n",
              "    .dataframe tbody tr th {\n",
              "        vertical-align: top;\n",
              "    }\n",
              "\n",
              "    .dataframe thead th {\n",
              "        text-align: right;\n",
              "    }\n",
              "</style>\n",
              "<table border=\"1\" class=\"dataframe\">\n",
              "  <thead>\n",
              "    <tr style=\"text-align: right;\">\n",
              "      <th></th>\n",
              "      <th>make</th>\n",
              "      <th>model</th>\n",
              "      <th>year</th>\n",
              "      <th>mileage(kilometers)</th>\n",
              "      <th>volume(cm3)</th>\n",
              "      <th>all-wheel drive</th>\n",
              "      <th>front-wheel drive</th>\n",
              "      <th>part-time four-wheel drive</th>\n",
              "      <th>rear drive</th>\n",
              "      <th>A</th>\n",
              "      <th>B</th>\n",
              "      <th>C</th>\n",
              "      <th>D</th>\n",
              "      <th>E</th>\n",
              "      <th>F</th>\n",
              "      <th>J</th>\n",
              "      <th>M</th>\n",
              "      <th>S</th>\n",
              "      <th>for parts</th>\n",
              "      <th>with damage</th>\n",
              "      <th>with mileage</th>\n",
              "      <th>diesel</th>\n",
              "      <th>electrocar</th>\n",
              "      <th>petrol</th>\n",
              "      <th>auto</th>\n",
              "      <th>mechanics</th>\n",
              "      <th>black</th>\n",
              "      <th>blue</th>\n",
              "      <th>brown</th>\n",
              "      <th>burgundy</th>\n",
              "      <th>gray</th>\n",
              "      <th>green</th>\n",
              "      <th>orange</th>\n",
              "      <th>other</th>\n",
              "      <th>purple</th>\n",
              "      <th>red</th>\n",
              "      <th>silver</th>\n",
              "      <th>white</th>\n",
              "      <th>yellow</th>\n",
              "    </tr>\n",
              "  </thead>\n",
              "  <tbody>\n",
              "    <tr>\n",
              "      <th>0</th>\n",
              "      <td>honda</td>\n",
              "      <td>accord</td>\n",
              "      <td>1993</td>\n",
              "      <td>960015.0</td>\n",
              "      <td>2000.0</td>\n",
              "      <td>0</td>\n",
              "      <td>1</td>\n",
              "      <td>0</td>\n",
              "      <td>0</td>\n",
              "      <td>0</td>\n",
              "      <td>0</td>\n",
              "      <td>0</td>\n",
              "      <td>1</td>\n",
              "      <td>0</td>\n",
              "      <td>0</td>\n",
              "      <td>0</td>\n",
              "      <td>0</td>\n",
              "      <td>0</td>\n",
              "      <td>0</td>\n",
              "      <td>0</td>\n",
              "      <td>1</td>\n",
              "      <td>0</td>\n",
              "      <td>0</td>\n",
              "      <td>1</td>\n",
              "      <td>0</td>\n",
              "      <td>1</td>\n",
              "      <td>1</td>\n",
              "      <td>0</td>\n",
              "      <td>0</td>\n",
              "      <td>0</td>\n",
              "      <td>0</td>\n",
              "      <td>0</td>\n",
              "      <td>0</td>\n",
              "      <td>0</td>\n",
              "      <td>0</td>\n",
              "      <td>0</td>\n",
              "      <td>0</td>\n",
              "      <td>0</td>\n",
              "      <td>0</td>\n",
              "    </tr>\n",
              "    <tr>\n",
              "      <th>1</th>\n",
              "      <td>ford</td>\n",
              "      <td>fusion</td>\n",
              "      <td>2008</td>\n",
              "      <td>172000.0</td>\n",
              "      <td>1400.0</td>\n",
              "      <td>0</td>\n",
              "      <td>1</td>\n",
              "      <td>0</td>\n",
              "      <td>0</td>\n",
              "      <td>0</td>\n",
              "      <td>0</td>\n",
              "      <td>0</td>\n",
              "      <td>0</td>\n",
              "      <td>0</td>\n",
              "      <td>0</td>\n",
              "      <td>0</td>\n",
              "      <td>1</td>\n",
              "      <td>0</td>\n",
              "      <td>0</td>\n",
              "      <td>0</td>\n",
              "      <td>1</td>\n",
              "      <td>1</td>\n",
              "      <td>0</td>\n",
              "      <td>0</td>\n",
              "      <td>0</td>\n",
              "      <td>1</td>\n",
              "      <td>0</td>\n",
              "      <td>0</td>\n",
              "      <td>0</td>\n",
              "      <td>0</td>\n",
              "      <td>0</td>\n",
              "      <td>0</td>\n",
              "      <td>0</td>\n",
              "      <td>0</td>\n",
              "      <td>0</td>\n",
              "      <td>0</td>\n",
              "      <td>1</td>\n",
              "      <td>0</td>\n",
              "      <td>0</td>\n",
              "    </tr>\n",
              "    <tr>\n",
              "      <th>2</th>\n",
              "      <td>nissan</td>\n",
              "      <td>teana</td>\n",
              "      <td>2008</td>\n",
              "      <td>223000.0</td>\n",
              "      <td>2500.0</td>\n",
              "      <td>0</td>\n",
              "      <td>1</td>\n",
              "      <td>0</td>\n",
              "      <td>0</td>\n",
              "      <td>0</td>\n",
              "      <td>0</td>\n",
              "      <td>0</td>\n",
              "      <td>1</td>\n",
              "      <td>0</td>\n",
              "      <td>0</td>\n",
              "      <td>0</td>\n",
              "      <td>0</td>\n",
              "      <td>0</td>\n",
              "      <td>0</td>\n",
              "      <td>0</td>\n",
              "      <td>1</td>\n",
              "      <td>0</td>\n",
              "      <td>0</td>\n",
              "      <td>1</td>\n",
              "      <td>1</td>\n",
              "      <td>0</td>\n",
              "      <td>0</td>\n",
              "      <td>0</td>\n",
              "      <td>0</td>\n",
              "      <td>0</td>\n",
              "      <td>0</td>\n",
              "      <td>0</td>\n",
              "      <td>0</td>\n",
              "      <td>0</td>\n",
              "      <td>1</td>\n",
              "      <td>0</td>\n",
              "      <td>0</td>\n",
              "      <td>0</td>\n",
              "      <td>0</td>\n",
              "    </tr>\n",
              "    <tr>\n",
              "      <th>3</th>\n",
              "      <td>volkswagen</td>\n",
              "      <td>fox</td>\n",
              "      <td>2005</td>\n",
              "      <td>140000.0</td>\n",
              "      <td>1200.0</td>\n",
              "      <td>0</td>\n",
              "      <td>1</td>\n",
              "      <td>0</td>\n",
              "      <td>0</td>\n",
              "      <td>1</td>\n",
              "      <td>0</td>\n",
              "      <td>0</td>\n",
              "      <td>0</td>\n",
              "      <td>0</td>\n",
              "      <td>0</td>\n",
              "      <td>0</td>\n",
              "      <td>0</td>\n",
              "      <td>0</td>\n",
              "      <td>0</td>\n",
              "      <td>0</td>\n",
              "      <td>1</td>\n",
              "      <td>0</td>\n",
              "      <td>0</td>\n",
              "      <td>1</td>\n",
              "      <td>0</td>\n",
              "      <td>1</td>\n",
              "      <td>0</td>\n",
              "      <td>1</td>\n",
              "      <td>0</td>\n",
              "      <td>0</td>\n",
              "      <td>0</td>\n",
              "      <td>0</td>\n",
              "      <td>0</td>\n",
              "      <td>0</td>\n",
              "      <td>0</td>\n",
              "      <td>0</td>\n",
              "      <td>0</td>\n",
              "      <td>0</td>\n",
              "      <td>0</td>\n",
              "    </tr>\n",
              "    <tr>\n",
              "      <th>4</th>\n",
              "      <td>nissan</td>\n",
              "      <td>primera</td>\n",
              "      <td>2002</td>\n",
              "      <td>413000.0</td>\n",
              "      <td>2200.0</td>\n",
              "      <td>0</td>\n",
              "      <td>1</td>\n",
              "      <td>0</td>\n",
              "      <td>0</td>\n",
              "      <td>0</td>\n",
              "      <td>0</td>\n",
              "      <td>0</td>\n",
              "      <td>1</td>\n",
              "      <td>0</td>\n",
              "      <td>0</td>\n",
              "      <td>0</td>\n",
              "      <td>0</td>\n",
              "      <td>0</td>\n",
              "      <td>0</td>\n",
              "      <td>1</td>\n",
              "      <td>0</td>\n",
              "      <td>1</td>\n",
              "      <td>0</td>\n",
              "      <td>0</td>\n",
              "      <td>0</td>\n",
              "      <td>1</td>\n",
              "      <td>0</td>\n",
              "      <td>0</td>\n",
              "      <td>0</td>\n",
              "      <td>1</td>\n",
              "      <td>0</td>\n",
              "      <td>0</td>\n",
              "      <td>0</td>\n",
              "      <td>0</td>\n",
              "      <td>0</td>\n",
              "      <td>0</td>\n",
              "      <td>0</td>\n",
              "      <td>0</td>\n",
              "      <td>0</td>\n",
              "    </tr>\n",
              "    <tr>\n",
              "      <th>...</th>\n",
              "      <td>...</td>\n",
              "      <td>...</td>\n",
              "      <td>...</td>\n",
              "      <td>...</td>\n",
              "      <td>...</td>\n",
              "      <td>...</td>\n",
              "      <td>...</td>\n",
              "      <td>...</td>\n",
              "      <td>...</td>\n",
              "      <td>...</td>\n",
              "      <td>...</td>\n",
              "      <td>...</td>\n",
              "      <td>...</td>\n",
              "      <td>...</td>\n",
              "      <td>...</td>\n",
              "      <td>...</td>\n",
              "      <td>...</td>\n",
              "      <td>...</td>\n",
              "      <td>...</td>\n",
              "      <td>...</td>\n",
              "      <td>...</td>\n",
              "      <td>...</td>\n",
              "      <td>...</td>\n",
              "      <td>...</td>\n",
              "      <td>...</td>\n",
              "      <td>...</td>\n",
              "      <td>...</td>\n",
              "      <td>...</td>\n",
              "      <td>...</td>\n",
              "      <td>...</td>\n",
              "      <td>...</td>\n",
              "      <td>...</td>\n",
              "      <td>...</td>\n",
              "      <td>...</td>\n",
              "      <td>...</td>\n",
              "      <td>...</td>\n",
              "      <td>...</td>\n",
              "      <td>...</td>\n",
              "      <td>...</td>\n",
              "    </tr>\n",
              "    <tr>\n",
              "      <th>39995</th>\n",
              "      <td>jeep</td>\n",
              "      <td>grand-cherokee</td>\n",
              "      <td>2008</td>\n",
              "      <td>214000.0</td>\n",
              "      <td>3700.0</td>\n",
              "      <td>1</td>\n",
              "      <td>0</td>\n",
              "      <td>0</td>\n",
              "      <td>0</td>\n",
              "      <td>0</td>\n",
              "      <td>0</td>\n",
              "      <td>0</td>\n",
              "      <td>0</td>\n",
              "      <td>0</td>\n",
              "      <td>0</td>\n",
              "      <td>1</td>\n",
              "      <td>0</td>\n",
              "      <td>0</td>\n",
              "      <td>0</td>\n",
              "      <td>0</td>\n",
              "      <td>1</td>\n",
              "      <td>0</td>\n",
              "      <td>0</td>\n",
              "      <td>1</td>\n",
              "      <td>1</td>\n",
              "      <td>0</td>\n",
              "      <td>0</td>\n",
              "      <td>0</td>\n",
              "      <td>0</td>\n",
              "      <td>0</td>\n",
              "      <td>0</td>\n",
              "      <td>0</td>\n",
              "      <td>0</td>\n",
              "      <td>0</td>\n",
              "      <td>0</td>\n",
              "      <td>0</td>\n",
              "      <td>1</td>\n",
              "      <td>0</td>\n",
              "      <td>0</td>\n",
              "    </tr>\n",
              "    <tr>\n",
              "      <th>39996</th>\n",
              "      <td>peugeot</td>\n",
              "      <td>607</td>\n",
              "      <td>2001</td>\n",
              "      <td>295000.0</td>\n",
              "      <td>2200.0</td>\n",
              "      <td>0</td>\n",
              "      <td>1</td>\n",
              "      <td>0</td>\n",
              "      <td>0</td>\n",
              "      <td>0</td>\n",
              "      <td>0</td>\n",
              "      <td>0</td>\n",
              "      <td>0</td>\n",
              "      <td>1</td>\n",
              "      <td>0</td>\n",
              "      <td>0</td>\n",
              "      <td>0</td>\n",
              "      <td>0</td>\n",
              "      <td>0</td>\n",
              "      <td>0</td>\n",
              "      <td>1</td>\n",
              "      <td>0</td>\n",
              "      <td>0</td>\n",
              "      <td>1</td>\n",
              "      <td>0</td>\n",
              "      <td>1</td>\n",
              "      <td>0</td>\n",
              "      <td>1</td>\n",
              "      <td>0</td>\n",
              "      <td>0</td>\n",
              "      <td>0</td>\n",
              "      <td>0</td>\n",
              "      <td>0</td>\n",
              "      <td>0</td>\n",
              "      <td>0</td>\n",
              "      <td>0</td>\n",
              "      <td>0</td>\n",
              "      <td>0</td>\n",
              "      <td>0</td>\n",
              "    </tr>\n",
              "    <tr>\n",
              "      <th>39997</th>\n",
              "      <td>mercedes-benz</td>\n",
              "      <td>c-klass</td>\n",
              "      <td>1999</td>\n",
              "      <td>0.0</td>\n",
              "      <td>2200.0</td>\n",
              "      <td>0</td>\n",
              "      <td>0</td>\n",
              "      <td>0</td>\n",
              "      <td>1</td>\n",
              "      <td>0</td>\n",
              "      <td>0</td>\n",
              "      <td>0</td>\n",
              "      <td>1</td>\n",
              "      <td>0</td>\n",
              "      <td>0</td>\n",
              "      <td>0</td>\n",
              "      <td>0</td>\n",
              "      <td>0</td>\n",
              "      <td>0</td>\n",
              "      <td>0</td>\n",
              "      <td>1</td>\n",
              "      <td>1</td>\n",
              "      <td>0</td>\n",
              "      <td>0</td>\n",
              "      <td>0</td>\n",
              "      <td>1</td>\n",
              "      <td>0</td>\n",
              "      <td>0</td>\n",
              "      <td>0</td>\n",
              "      <td>0</td>\n",
              "      <td>0</td>\n",
              "      <td>0</td>\n",
              "      <td>0</td>\n",
              "      <td>1</td>\n",
              "      <td>0</td>\n",
              "      <td>0</td>\n",
              "      <td>0</td>\n",
              "      <td>0</td>\n",
              "      <td>0</td>\n",
              "    </tr>\n",
              "    <tr>\n",
              "      <th>39998</th>\n",
              "      <td>proton</td>\n",
              "      <td>persona</td>\n",
              "      <td>1996</td>\n",
              "      <td>250000.0</td>\n",
              "      <td>1300.0</td>\n",
              "      <td>0</td>\n",
              "      <td>1</td>\n",
              "      <td>0</td>\n",
              "      <td>0</td>\n",
              "      <td>0</td>\n",
              "      <td>0</td>\n",
              "      <td>0</td>\n",
              "      <td>1</td>\n",
              "      <td>0</td>\n",
              "      <td>0</td>\n",
              "      <td>0</td>\n",
              "      <td>0</td>\n",
              "      <td>0</td>\n",
              "      <td>0</td>\n",
              "      <td>0</td>\n",
              "      <td>1</td>\n",
              "      <td>0</td>\n",
              "      <td>0</td>\n",
              "      <td>1</td>\n",
              "      <td>0</td>\n",
              "      <td>1</td>\n",
              "      <td>0</td>\n",
              "      <td>0</td>\n",
              "      <td>0</td>\n",
              "      <td>0</td>\n",
              "      <td>0</td>\n",
              "      <td>0</td>\n",
              "      <td>0</td>\n",
              "      <td>1</td>\n",
              "      <td>0</td>\n",
              "      <td>0</td>\n",
              "      <td>0</td>\n",
              "      <td>0</td>\n",
              "      <td>0</td>\n",
              "    </tr>\n",
              "    <tr>\n",
              "      <th>39999</th>\n",
              "      <td>mercedes-benz</td>\n",
              "      <td>190-w201</td>\n",
              "      <td>1986</td>\n",
              "      <td>272344.0</td>\n",
              "      <td>1997.0</td>\n",
              "      <td>0</td>\n",
              "      <td>0</td>\n",
              "      <td>0</td>\n",
              "      <td>1</td>\n",
              "      <td>0</td>\n",
              "      <td>0</td>\n",
              "      <td>0</td>\n",
              "      <td>1</td>\n",
              "      <td>0</td>\n",
              "      <td>0</td>\n",
              "      <td>0</td>\n",
              "      <td>0</td>\n",
              "      <td>0</td>\n",
              "      <td>0</td>\n",
              "      <td>0</td>\n",
              "      <td>1</td>\n",
              "      <td>1</td>\n",
              "      <td>0</td>\n",
              "      <td>0</td>\n",
              "      <td>0</td>\n",
              "      <td>1</td>\n",
              "      <td>0</td>\n",
              "      <td>0</td>\n",
              "      <td>0</td>\n",
              "      <td>0</td>\n",
              "      <td>0</td>\n",
              "      <td>0</td>\n",
              "      <td>0</td>\n",
              "      <td>0</td>\n",
              "      <td>0</td>\n",
              "      <td>0</td>\n",
              "      <td>1</td>\n",
              "      <td>0</td>\n",
              "      <td>0</td>\n",
              "    </tr>\n",
              "  </tbody>\n",
              "</table>\n",
              "<p>40000 rows × 39 columns</p>\n",
              "</div>"
            ],
            "text/plain": [
              "                make           model  year  ...  silver  white  yellow\n",
              "0              honda          accord  1993  ...       0      0       0\n",
              "1               ford          fusion  2008  ...       1      0       0\n",
              "2             nissan           teana  2008  ...       0      0       0\n",
              "3         volkswagen             fox  2005  ...       0      0       0\n",
              "4             nissan         primera  2002  ...       0      0       0\n",
              "...              ...             ...   ...  ...     ...    ...     ...\n",
              "39995           jeep  grand-cherokee  2008  ...       1      0       0\n",
              "39996        peugeot             607  2001  ...       0      0       0\n",
              "39997  mercedes-benz         c-klass  1999  ...       0      0       0\n",
              "39998         proton         persona  1996  ...       0      0       0\n",
              "39999  mercedes-benz        190-w201  1986  ...       1      0       0\n",
              "\n",
              "[40000 rows x 39 columns]"
            ]
          },
          "metadata": {
            "tags": []
          },
          "execution_count": 83
        }
      ]
    },
    {
      "cell_type": "code",
      "metadata": {
        "colab": {
          "base_uri": "https://localhost:8080/",
          "height": 522
        },
        "id": "iF5e-m8h4Sjw",
        "outputId": "5b2f8f9a-e06d-486d-c297-2a71675d3e1e"
      },
      "source": [
        "encoder = ce.BackwardDifferenceEncoder(cols=cols)\n",
        "df_bd = encoder.fit_transform(df_copy)\n",
        "df_bd"
      ],
      "execution_count": null,
      "outputs": [
        {
          "output_type": "stream",
          "text": [
            "/usr/local/lib/python3.6/dist-packages/category_encoders/utils.py:21: FutureWarning: is_categorical is deprecated and will be removed in a future version.  Use is_categorical_dtype instead\n",
            "  elif pd.api.types.is_categorical(cols):\n"
          ],
          "name": "stderr"
        },
        {
          "output_type": "execute_result",
          "data": {
            "text/html": [
              "<div>\n",
              "<style scoped>\n",
              "    .dataframe tbody tr th:only-of-type {\n",
              "        vertical-align: middle;\n",
              "    }\n",
              "\n",
              "    .dataframe tbody tr th {\n",
              "        vertical-align: top;\n",
              "    }\n",
              "\n",
              "    .dataframe thead th {\n",
              "        text-align: right;\n",
              "    }\n",
              "</style>\n",
              "<table border=\"1\" class=\"dataframe\">\n",
              "  <thead>\n",
              "    <tr style=\"text-align: right;\">\n",
              "      <th></th>\n",
              "      <th>intercept</th>\n",
              "      <th>make_0</th>\n",
              "      <th>make_1</th>\n",
              "      <th>make_2</th>\n",
              "      <th>make_3</th>\n",
              "      <th>make_4</th>\n",
              "      <th>make_5</th>\n",
              "      <th>make_6</th>\n",
              "      <th>make_7</th>\n",
              "      <th>make_8</th>\n",
              "      <th>make_9</th>\n",
              "      <th>make_10</th>\n",
              "      <th>make_11</th>\n",
              "      <th>make_12</th>\n",
              "      <th>make_13</th>\n",
              "      <th>make_14</th>\n",
              "      <th>make_15</th>\n",
              "      <th>make_16</th>\n",
              "      <th>make_17</th>\n",
              "      <th>make_18</th>\n",
              "      <th>make_19</th>\n",
              "      <th>make_20</th>\n",
              "      <th>make_21</th>\n",
              "      <th>make_22</th>\n",
              "      <th>make_23</th>\n",
              "      <th>make_24</th>\n",
              "      <th>make_25</th>\n",
              "      <th>make_26</th>\n",
              "      <th>make_27</th>\n",
              "      <th>make_28</th>\n",
              "      <th>make_29</th>\n",
              "      <th>make_30</th>\n",
              "      <th>make_31</th>\n",
              "      <th>make_32</th>\n",
              "      <th>make_33</th>\n",
              "      <th>make_34</th>\n",
              "      <th>make_35</th>\n",
              "      <th>make_36</th>\n",
              "      <th>make_37</th>\n",
              "      <th>make_38</th>\n",
              "      <th>...</th>\n",
              "      <th>model_987</th>\n",
              "      <th>model_988</th>\n",
              "      <th>model_989</th>\n",
              "      <th>year</th>\n",
              "      <th>mileage(kilometers)</th>\n",
              "      <th>volume(cm3)</th>\n",
              "      <th>all-wheel drive</th>\n",
              "      <th>front-wheel drive</th>\n",
              "      <th>part-time four-wheel drive</th>\n",
              "      <th>rear drive</th>\n",
              "      <th>A</th>\n",
              "      <th>B</th>\n",
              "      <th>C</th>\n",
              "      <th>D</th>\n",
              "      <th>E</th>\n",
              "      <th>F</th>\n",
              "      <th>J</th>\n",
              "      <th>M</th>\n",
              "      <th>S</th>\n",
              "      <th>for parts</th>\n",
              "      <th>with damage</th>\n",
              "      <th>with mileage</th>\n",
              "      <th>diesel</th>\n",
              "      <th>electrocar</th>\n",
              "      <th>petrol</th>\n",
              "      <th>auto</th>\n",
              "      <th>mechanics</th>\n",
              "      <th>black</th>\n",
              "      <th>blue</th>\n",
              "      <th>brown</th>\n",
              "      <th>burgundy</th>\n",
              "      <th>gray</th>\n",
              "      <th>green</th>\n",
              "      <th>orange</th>\n",
              "      <th>other</th>\n",
              "      <th>purple</th>\n",
              "      <th>red</th>\n",
              "      <th>silver</th>\n",
              "      <th>white</th>\n",
              "      <th>yellow</th>\n",
              "    </tr>\n",
              "  </thead>\n",
              "  <tbody>\n",
              "    <tr>\n",
              "      <th>0</th>\n",
              "      <td>1</td>\n",
              "      <td>-0.989247</td>\n",
              "      <td>-0.978495</td>\n",
              "      <td>-0.967742</td>\n",
              "      <td>-0.956989</td>\n",
              "      <td>-0.946237</td>\n",
              "      <td>-0.935484</td>\n",
              "      <td>-0.924731</td>\n",
              "      <td>-0.913978</td>\n",
              "      <td>-0.903226</td>\n",
              "      <td>-0.892473</td>\n",
              "      <td>-0.88172</td>\n",
              "      <td>-0.870968</td>\n",
              "      <td>-0.860215</td>\n",
              "      <td>-0.849462</td>\n",
              "      <td>-0.83871</td>\n",
              "      <td>-0.827957</td>\n",
              "      <td>-0.817204</td>\n",
              "      <td>-0.806452</td>\n",
              "      <td>-0.795699</td>\n",
              "      <td>-0.784946</td>\n",
              "      <td>-0.774194</td>\n",
              "      <td>-0.763441</td>\n",
              "      <td>-0.752688</td>\n",
              "      <td>-0.741935</td>\n",
              "      <td>-0.731183</td>\n",
              "      <td>-0.72043</td>\n",
              "      <td>-0.709677</td>\n",
              "      <td>-0.698925</td>\n",
              "      <td>-0.688172</td>\n",
              "      <td>-0.677419</td>\n",
              "      <td>-0.666667</td>\n",
              "      <td>-0.655914</td>\n",
              "      <td>-0.645161</td>\n",
              "      <td>-0.634409</td>\n",
              "      <td>-0.623656</td>\n",
              "      <td>-0.612903</td>\n",
              "      <td>-0.602151</td>\n",
              "      <td>-0.591398</td>\n",
              "      <td>-0.580645</td>\n",
              "      <td>...</td>\n",
              "      <td>-0.003027</td>\n",
              "      <td>-0.002018</td>\n",
              "      <td>-0.001009</td>\n",
              "      <td>1993</td>\n",
              "      <td>960015.0</td>\n",
              "      <td>2000.0</td>\n",
              "      <td>0</td>\n",
              "      <td>1</td>\n",
              "      <td>0</td>\n",
              "      <td>0</td>\n",
              "      <td>0</td>\n",
              "      <td>0</td>\n",
              "      <td>0</td>\n",
              "      <td>1</td>\n",
              "      <td>0</td>\n",
              "      <td>0</td>\n",
              "      <td>0</td>\n",
              "      <td>0</td>\n",
              "      <td>0</td>\n",
              "      <td>0</td>\n",
              "      <td>0</td>\n",
              "      <td>1</td>\n",
              "      <td>0</td>\n",
              "      <td>0</td>\n",
              "      <td>1</td>\n",
              "      <td>0</td>\n",
              "      <td>1</td>\n",
              "      <td>1</td>\n",
              "      <td>0</td>\n",
              "      <td>0</td>\n",
              "      <td>0</td>\n",
              "      <td>0</td>\n",
              "      <td>0</td>\n",
              "      <td>0</td>\n",
              "      <td>0</td>\n",
              "      <td>0</td>\n",
              "      <td>0</td>\n",
              "      <td>0</td>\n",
              "      <td>0</td>\n",
              "      <td>0</td>\n",
              "    </tr>\n",
              "    <tr>\n",
              "      <th>1</th>\n",
              "      <td>1</td>\n",
              "      <td>0.010753</td>\n",
              "      <td>-0.978495</td>\n",
              "      <td>-0.967742</td>\n",
              "      <td>-0.956989</td>\n",
              "      <td>-0.946237</td>\n",
              "      <td>-0.935484</td>\n",
              "      <td>-0.924731</td>\n",
              "      <td>-0.913978</td>\n",
              "      <td>-0.903226</td>\n",
              "      <td>-0.892473</td>\n",
              "      <td>-0.88172</td>\n",
              "      <td>-0.870968</td>\n",
              "      <td>-0.860215</td>\n",
              "      <td>-0.849462</td>\n",
              "      <td>-0.83871</td>\n",
              "      <td>-0.827957</td>\n",
              "      <td>-0.817204</td>\n",
              "      <td>-0.806452</td>\n",
              "      <td>-0.795699</td>\n",
              "      <td>-0.784946</td>\n",
              "      <td>-0.774194</td>\n",
              "      <td>-0.763441</td>\n",
              "      <td>-0.752688</td>\n",
              "      <td>-0.741935</td>\n",
              "      <td>-0.731183</td>\n",
              "      <td>-0.72043</td>\n",
              "      <td>-0.709677</td>\n",
              "      <td>-0.698925</td>\n",
              "      <td>-0.688172</td>\n",
              "      <td>-0.677419</td>\n",
              "      <td>-0.666667</td>\n",
              "      <td>-0.655914</td>\n",
              "      <td>-0.645161</td>\n",
              "      <td>-0.634409</td>\n",
              "      <td>-0.623656</td>\n",
              "      <td>-0.612903</td>\n",
              "      <td>-0.602151</td>\n",
              "      <td>-0.591398</td>\n",
              "      <td>-0.580645</td>\n",
              "      <td>...</td>\n",
              "      <td>-0.003027</td>\n",
              "      <td>-0.002018</td>\n",
              "      <td>-0.001009</td>\n",
              "      <td>2008</td>\n",
              "      <td>172000.0</td>\n",
              "      <td>1400.0</td>\n",
              "      <td>0</td>\n",
              "      <td>1</td>\n",
              "      <td>0</td>\n",
              "      <td>0</td>\n",
              "      <td>0</td>\n",
              "      <td>0</td>\n",
              "      <td>0</td>\n",
              "      <td>0</td>\n",
              "      <td>0</td>\n",
              "      <td>0</td>\n",
              "      <td>0</td>\n",
              "      <td>1</td>\n",
              "      <td>0</td>\n",
              "      <td>0</td>\n",
              "      <td>0</td>\n",
              "      <td>1</td>\n",
              "      <td>1</td>\n",
              "      <td>0</td>\n",
              "      <td>0</td>\n",
              "      <td>0</td>\n",
              "      <td>1</td>\n",
              "      <td>0</td>\n",
              "      <td>0</td>\n",
              "      <td>0</td>\n",
              "      <td>0</td>\n",
              "      <td>0</td>\n",
              "      <td>0</td>\n",
              "      <td>0</td>\n",
              "      <td>0</td>\n",
              "      <td>0</td>\n",
              "      <td>0</td>\n",
              "      <td>1</td>\n",
              "      <td>0</td>\n",
              "      <td>0</td>\n",
              "    </tr>\n",
              "    <tr>\n",
              "      <th>2</th>\n",
              "      <td>1</td>\n",
              "      <td>0.010753</td>\n",
              "      <td>0.021505</td>\n",
              "      <td>-0.967742</td>\n",
              "      <td>-0.956989</td>\n",
              "      <td>-0.946237</td>\n",
              "      <td>-0.935484</td>\n",
              "      <td>-0.924731</td>\n",
              "      <td>-0.913978</td>\n",
              "      <td>-0.903226</td>\n",
              "      <td>-0.892473</td>\n",
              "      <td>-0.88172</td>\n",
              "      <td>-0.870968</td>\n",
              "      <td>-0.860215</td>\n",
              "      <td>-0.849462</td>\n",
              "      <td>-0.83871</td>\n",
              "      <td>-0.827957</td>\n",
              "      <td>-0.817204</td>\n",
              "      <td>-0.806452</td>\n",
              "      <td>-0.795699</td>\n",
              "      <td>-0.784946</td>\n",
              "      <td>-0.774194</td>\n",
              "      <td>-0.763441</td>\n",
              "      <td>-0.752688</td>\n",
              "      <td>-0.741935</td>\n",
              "      <td>-0.731183</td>\n",
              "      <td>-0.72043</td>\n",
              "      <td>-0.709677</td>\n",
              "      <td>-0.698925</td>\n",
              "      <td>-0.688172</td>\n",
              "      <td>-0.677419</td>\n",
              "      <td>-0.666667</td>\n",
              "      <td>-0.655914</td>\n",
              "      <td>-0.645161</td>\n",
              "      <td>-0.634409</td>\n",
              "      <td>-0.623656</td>\n",
              "      <td>-0.612903</td>\n",
              "      <td>-0.602151</td>\n",
              "      <td>-0.591398</td>\n",
              "      <td>-0.580645</td>\n",
              "      <td>...</td>\n",
              "      <td>-0.003027</td>\n",
              "      <td>-0.002018</td>\n",
              "      <td>-0.001009</td>\n",
              "      <td>2008</td>\n",
              "      <td>223000.0</td>\n",
              "      <td>2500.0</td>\n",
              "      <td>0</td>\n",
              "      <td>1</td>\n",
              "      <td>0</td>\n",
              "      <td>0</td>\n",
              "      <td>0</td>\n",
              "      <td>0</td>\n",
              "      <td>0</td>\n",
              "      <td>1</td>\n",
              "      <td>0</td>\n",
              "      <td>0</td>\n",
              "      <td>0</td>\n",
              "      <td>0</td>\n",
              "      <td>0</td>\n",
              "      <td>0</td>\n",
              "      <td>0</td>\n",
              "      <td>1</td>\n",
              "      <td>0</td>\n",
              "      <td>0</td>\n",
              "      <td>1</td>\n",
              "      <td>1</td>\n",
              "      <td>0</td>\n",
              "      <td>0</td>\n",
              "      <td>0</td>\n",
              "      <td>0</td>\n",
              "      <td>0</td>\n",
              "      <td>0</td>\n",
              "      <td>0</td>\n",
              "      <td>0</td>\n",
              "      <td>0</td>\n",
              "      <td>1</td>\n",
              "      <td>0</td>\n",
              "      <td>0</td>\n",
              "      <td>0</td>\n",
              "      <td>0</td>\n",
              "    </tr>\n",
              "    <tr>\n",
              "      <th>3</th>\n",
              "      <td>1</td>\n",
              "      <td>0.010753</td>\n",
              "      <td>0.021505</td>\n",
              "      <td>0.032258</td>\n",
              "      <td>-0.956989</td>\n",
              "      <td>-0.946237</td>\n",
              "      <td>-0.935484</td>\n",
              "      <td>-0.924731</td>\n",
              "      <td>-0.913978</td>\n",
              "      <td>-0.903226</td>\n",
              "      <td>-0.892473</td>\n",
              "      <td>-0.88172</td>\n",
              "      <td>-0.870968</td>\n",
              "      <td>-0.860215</td>\n",
              "      <td>-0.849462</td>\n",
              "      <td>-0.83871</td>\n",
              "      <td>-0.827957</td>\n",
              "      <td>-0.817204</td>\n",
              "      <td>-0.806452</td>\n",
              "      <td>-0.795699</td>\n",
              "      <td>-0.784946</td>\n",
              "      <td>-0.774194</td>\n",
              "      <td>-0.763441</td>\n",
              "      <td>-0.752688</td>\n",
              "      <td>-0.741935</td>\n",
              "      <td>-0.731183</td>\n",
              "      <td>-0.72043</td>\n",
              "      <td>-0.709677</td>\n",
              "      <td>-0.698925</td>\n",
              "      <td>-0.688172</td>\n",
              "      <td>-0.677419</td>\n",
              "      <td>-0.666667</td>\n",
              "      <td>-0.655914</td>\n",
              "      <td>-0.645161</td>\n",
              "      <td>-0.634409</td>\n",
              "      <td>-0.623656</td>\n",
              "      <td>-0.612903</td>\n",
              "      <td>-0.602151</td>\n",
              "      <td>-0.591398</td>\n",
              "      <td>-0.580645</td>\n",
              "      <td>...</td>\n",
              "      <td>-0.003027</td>\n",
              "      <td>-0.002018</td>\n",
              "      <td>-0.001009</td>\n",
              "      <td>2005</td>\n",
              "      <td>140000.0</td>\n",
              "      <td>1200.0</td>\n",
              "      <td>0</td>\n",
              "      <td>1</td>\n",
              "      <td>0</td>\n",
              "      <td>0</td>\n",
              "      <td>1</td>\n",
              "      <td>0</td>\n",
              "      <td>0</td>\n",
              "      <td>0</td>\n",
              "      <td>0</td>\n",
              "      <td>0</td>\n",
              "      <td>0</td>\n",
              "      <td>0</td>\n",
              "      <td>0</td>\n",
              "      <td>0</td>\n",
              "      <td>0</td>\n",
              "      <td>1</td>\n",
              "      <td>0</td>\n",
              "      <td>0</td>\n",
              "      <td>1</td>\n",
              "      <td>0</td>\n",
              "      <td>1</td>\n",
              "      <td>0</td>\n",
              "      <td>1</td>\n",
              "      <td>0</td>\n",
              "      <td>0</td>\n",
              "      <td>0</td>\n",
              "      <td>0</td>\n",
              "      <td>0</td>\n",
              "      <td>0</td>\n",
              "      <td>0</td>\n",
              "      <td>0</td>\n",
              "      <td>0</td>\n",
              "      <td>0</td>\n",
              "      <td>0</td>\n",
              "    </tr>\n",
              "    <tr>\n",
              "      <th>4</th>\n",
              "      <td>1</td>\n",
              "      <td>0.010753</td>\n",
              "      <td>0.021505</td>\n",
              "      <td>-0.967742</td>\n",
              "      <td>-0.956989</td>\n",
              "      <td>-0.946237</td>\n",
              "      <td>-0.935484</td>\n",
              "      <td>-0.924731</td>\n",
              "      <td>-0.913978</td>\n",
              "      <td>-0.903226</td>\n",
              "      <td>-0.892473</td>\n",
              "      <td>-0.88172</td>\n",
              "      <td>-0.870968</td>\n",
              "      <td>-0.860215</td>\n",
              "      <td>-0.849462</td>\n",
              "      <td>-0.83871</td>\n",
              "      <td>-0.827957</td>\n",
              "      <td>-0.817204</td>\n",
              "      <td>-0.806452</td>\n",
              "      <td>-0.795699</td>\n",
              "      <td>-0.784946</td>\n",
              "      <td>-0.774194</td>\n",
              "      <td>-0.763441</td>\n",
              "      <td>-0.752688</td>\n",
              "      <td>-0.741935</td>\n",
              "      <td>-0.731183</td>\n",
              "      <td>-0.72043</td>\n",
              "      <td>-0.709677</td>\n",
              "      <td>-0.698925</td>\n",
              "      <td>-0.688172</td>\n",
              "      <td>-0.677419</td>\n",
              "      <td>-0.666667</td>\n",
              "      <td>-0.655914</td>\n",
              "      <td>-0.645161</td>\n",
              "      <td>-0.634409</td>\n",
              "      <td>-0.623656</td>\n",
              "      <td>-0.612903</td>\n",
              "      <td>-0.602151</td>\n",
              "      <td>-0.591398</td>\n",
              "      <td>-0.580645</td>\n",
              "      <td>...</td>\n",
              "      <td>-0.003027</td>\n",
              "      <td>-0.002018</td>\n",
              "      <td>-0.001009</td>\n",
              "      <td>2002</td>\n",
              "      <td>413000.0</td>\n",
              "      <td>2200.0</td>\n",
              "      <td>0</td>\n",
              "      <td>1</td>\n",
              "      <td>0</td>\n",
              "      <td>0</td>\n",
              "      <td>0</td>\n",
              "      <td>0</td>\n",
              "      <td>0</td>\n",
              "      <td>1</td>\n",
              "      <td>0</td>\n",
              "      <td>0</td>\n",
              "      <td>0</td>\n",
              "      <td>0</td>\n",
              "      <td>0</td>\n",
              "      <td>0</td>\n",
              "      <td>1</td>\n",
              "      <td>0</td>\n",
              "      <td>1</td>\n",
              "      <td>0</td>\n",
              "      <td>0</td>\n",
              "      <td>0</td>\n",
              "      <td>1</td>\n",
              "      <td>0</td>\n",
              "      <td>0</td>\n",
              "      <td>0</td>\n",
              "      <td>1</td>\n",
              "      <td>0</td>\n",
              "      <td>0</td>\n",
              "      <td>0</td>\n",
              "      <td>0</td>\n",
              "      <td>0</td>\n",
              "      <td>0</td>\n",
              "      <td>0</td>\n",
              "      <td>0</td>\n",
              "      <td>0</td>\n",
              "    </tr>\n",
              "    <tr>\n",
              "      <th>...</th>\n",
              "      <td>...</td>\n",
              "      <td>...</td>\n",
              "      <td>...</td>\n",
              "      <td>...</td>\n",
              "      <td>...</td>\n",
              "      <td>...</td>\n",
              "      <td>...</td>\n",
              "      <td>...</td>\n",
              "      <td>...</td>\n",
              "      <td>...</td>\n",
              "      <td>...</td>\n",
              "      <td>...</td>\n",
              "      <td>...</td>\n",
              "      <td>...</td>\n",
              "      <td>...</td>\n",
              "      <td>...</td>\n",
              "      <td>...</td>\n",
              "      <td>...</td>\n",
              "      <td>...</td>\n",
              "      <td>...</td>\n",
              "      <td>...</td>\n",
              "      <td>...</td>\n",
              "      <td>...</td>\n",
              "      <td>...</td>\n",
              "      <td>...</td>\n",
              "      <td>...</td>\n",
              "      <td>...</td>\n",
              "      <td>...</td>\n",
              "      <td>...</td>\n",
              "      <td>...</td>\n",
              "      <td>...</td>\n",
              "      <td>...</td>\n",
              "      <td>...</td>\n",
              "      <td>...</td>\n",
              "      <td>...</td>\n",
              "      <td>...</td>\n",
              "      <td>...</td>\n",
              "      <td>...</td>\n",
              "      <td>...</td>\n",
              "      <td>...</td>\n",
              "      <td>...</td>\n",
              "      <td>...</td>\n",
              "      <td>...</td>\n",
              "      <td>...</td>\n",
              "      <td>...</td>\n",
              "      <td>...</td>\n",
              "      <td>...</td>\n",
              "      <td>...</td>\n",
              "      <td>...</td>\n",
              "      <td>...</td>\n",
              "      <td>...</td>\n",
              "      <td>...</td>\n",
              "      <td>...</td>\n",
              "      <td>...</td>\n",
              "      <td>...</td>\n",
              "      <td>...</td>\n",
              "      <td>...</td>\n",
              "      <td>...</td>\n",
              "      <td>...</td>\n",
              "      <td>...</td>\n",
              "      <td>...</td>\n",
              "      <td>...</td>\n",
              "      <td>...</td>\n",
              "      <td>...</td>\n",
              "      <td>...</td>\n",
              "      <td>...</td>\n",
              "      <td>...</td>\n",
              "      <td>...</td>\n",
              "      <td>...</td>\n",
              "      <td>...</td>\n",
              "      <td>...</td>\n",
              "      <td>...</td>\n",
              "      <td>...</td>\n",
              "      <td>...</td>\n",
              "      <td>...</td>\n",
              "      <td>...</td>\n",
              "      <td>...</td>\n",
              "      <td>...</td>\n",
              "      <td>...</td>\n",
              "      <td>...</td>\n",
              "      <td>...</td>\n",
              "    </tr>\n",
              "    <tr>\n",
              "      <th>39995</th>\n",
              "      <td>1</td>\n",
              "      <td>0.010753</td>\n",
              "      <td>0.021505</td>\n",
              "      <td>0.032258</td>\n",
              "      <td>0.043011</td>\n",
              "      <td>0.053763</td>\n",
              "      <td>0.064516</td>\n",
              "      <td>0.075269</td>\n",
              "      <td>0.086022</td>\n",
              "      <td>0.096774</td>\n",
              "      <td>0.107527</td>\n",
              "      <td>0.11828</td>\n",
              "      <td>0.129032</td>\n",
              "      <td>0.139785</td>\n",
              "      <td>0.150538</td>\n",
              "      <td>0.16129</td>\n",
              "      <td>0.172043</td>\n",
              "      <td>0.182796</td>\n",
              "      <td>0.193548</td>\n",
              "      <td>0.204301</td>\n",
              "      <td>0.215054</td>\n",
              "      <td>0.225806</td>\n",
              "      <td>0.236559</td>\n",
              "      <td>0.247312</td>\n",
              "      <td>0.258065</td>\n",
              "      <td>0.268817</td>\n",
              "      <td>0.27957</td>\n",
              "      <td>0.290323</td>\n",
              "      <td>0.301075</td>\n",
              "      <td>0.311828</td>\n",
              "      <td>0.322581</td>\n",
              "      <td>0.333333</td>\n",
              "      <td>0.344086</td>\n",
              "      <td>0.354839</td>\n",
              "      <td>0.365591</td>\n",
              "      <td>0.376344</td>\n",
              "      <td>0.387097</td>\n",
              "      <td>0.397849</td>\n",
              "      <td>0.408602</td>\n",
              "      <td>0.419355</td>\n",
              "      <td>...</td>\n",
              "      <td>-0.003027</td>\n",
              "      <td>-0.002018</td>\n",
              "      <td>-0.001009</td>\n",
              "      <td>2008</td>\n",
              "      <td>214000.0</td>\n",
              "      <td>3700.0</td>\n",
              "      <td>1</td>\n",
              "      <td>0</td>\n",
              "      <td>0</td>\n",
              "      <td>0</td>\n",
              "      <td>0</td>\n",
              "      <td>0</td>\n",
              "      <td>0</td>\n",
              "      <td>0</td>\n",
              "      <td>0</td>\n",
              "      <td>0</td>\n",
              "      <td>1</td>\n",
              "      <td>0</td>\n",
              "      <td>0</td>\n",
              "      <td>0</td>\n",
              "      <td>0</td>\n",
              "      <td>1</td>\n",
              "      <td>0</td>\n",
              "      <td>0</td>\n",
              "      <td>1</td>\n",
              "      <td>1</td>\n",
              "      <td>0</td>\n",
              "      <td>0</td>\n",
              "      <td>0</td>\n",
              "      <td>0</td>\n",
              "      <td>0</td>\n",
              "      <td>0</td>\n",
              "      <td>0</td>\n",
              "      <td>0</td>\n",
              "      <td>0</td>\n",
              "      <td>0</td>\n",
              "      <td>0</td>\n",
              "      <td>1</td>\n",
              "      <td>0</td>\n",
              "      <td>0</td>\n",
              "    </tr>\n",
              "    <tr>\n",
              "      <th>39996</th>\n",
              "      <td>1</td>\n",
              "      <td>0.010753</td>\n",
              "      <td>0.021505</td>\n",
              "      <td>0.032258</td>\n",
              "      <td>0.043011</td>\n",
              "      <td>0.053763</td>\n",
              "      <td>0.064516</td>\n",
              "      <td>0.075269</td>\n",
              "      <td>0.086022</td>\n",
              "      <td>0.096774</td>\n",
              "      <td>0.107527</td>\n",
              "      <td>0.11828</td>\n",
              "      <td>0.129032</td>\n",
              "      <td>0.139785</td>\n",
              "      <td>0.150538</td>\n",
              "      <td>0.16129</td>\n",
              "      <td>0.172043</td>\n",
              "      <td>0.182796</td>\n",
              "      <td>0.193548</td>\n",
              "      <td>0.204301</td>\n",
              "      <td>0.215054</td>\n",
              "      <td>0.225806</td>\n",
              "      <td>0.236559</td>\n",
              "      <td>0.247312</td>\n",
              "      <td>0.258065</td>\n",
              "      <td>0.268817</td>\n",
              "      <td>0.27957</td>\n",
              "      <td>0.290323</td>\n",
              "      <td>0.301075</td>\n",
              "      <td>0.311828</td>\n",
              "      <td>-0.677419</td>\n",
              "      <td>-0.666667</td>\n",
              "      <td>-0.655914</td>\n",
              "      <td>-0.645161</td>\n",
              "      <td>-0.634409</td>\n",
              "      <td>-0.623656</td>\n",
              "      <td>-0.612903</td>\n",
              "      <td>-0.602151</td>\n",
              "      <td>-0.591398</td>\n",
              "      <td>-0.580645</td>\n",
              "      <td>...</td>\n",
              "      <td>-0.003027</td>\n",
              "      <td>-0.002018</td>\n",
              "      <td>-0.001009</td>\n",
              "      <td>2001</td>\n",
              "      <td>295000.0</td>\n",
              "      <td>2200.0</td>\n",
              "      <td>0</td>\n",
              "      <td>1</td>\n",
              "      <td>0</td>\n",
              "      <td>0</td>\n",
              "      <td>0</td>\n",
              "      <td>0</td>\n",
              "      <td>0</td>\n",
              "      <td>0</td>\n",
              "      <td>1</td>\n",
              "      <td>0</td>\n",
              "      <td>0</td>\n",
              "      <td>0</td>\n",
              "      <td>0</td>\n",
              "      <td>0</td>\n",
              "      <td>0</td>\n",
              "      <td>1</td>\n",
              "      <td>0</td>\n",
              "      <td>0</td>\n",
              "      <td>1</td>\n",
              "      <td>0</td>\n",
              "      <td>1</td>\n",
              "      <td>0</td>\n",
              "      <td>1</td>\n",
              "      <td>0</td>\n",
              "      <td>0</td>\n",
              "      <td>0</td>\n",
              "      <td>0</td>\n",
              "      <td>0</td>\n",
              "      <td>0</td>\n",
              "      <td>0</td>\n",
              "      <td>0</td>\n",
              "      <td>0</td>\n",
              "      <td>0</td>\n",
              "      <td>0</td>\n",
              "    </tr>\n",
              "    <tr>\n",
              "      <th>39997</th>\n",
              "      <td>1</td>\n",
              "      <td>0.010753</td>\n",
              "      <td>0.021505</td>\n",
              "      <td>0.032258</td>\n",
              "      <td>0.043011</td>\n",
              "      <td>0.053763</td>\n",
              "      <td>0.064516</td>\n",
              "      <td>0.075269</td>\n",
              "      <td>0.086022</td>\n",
              "      <td>0.096774</td>\n",
              "      <td>0.107527</td>\n",
              "      <td>0.11828</td>\n",
              "      <td>-0.870968</td>\n",
              "      <td>-0.860215</td>\n",
              "      <td>-0.849462</td>\n",
              "      <td>-0.83871</td>\n",
              "      <td>-0.827957</td>\n",
              "      <td>-0.817204</td>\n",
              "      <td>-0.806452</td>\n",
              "      <td>-0.795699</td>\n",
              "      <td>-0.784946</td>\n",
              "      <td>-0.774194</td>\n",
              "      <td>-0.763441</td>\n",
              "      <td>-0.752688</td>\n",
              "      <td>-0.741935</td>\n",
              "      <td>-0.731183</td>\n",
              "      <td>-0.72043</td>\n",
              "      <td>-0.709677</td>\n",
              "      <td>-0.698925</td>\n",
              "      <td>-0.688172</td>\n",
              "      <td>-0.677419</td>\n",
              "      <td>-0.666667</td>\n",
              "      <td>-0.655914</td>\n",
              "      <td>-0.645161</td>\n",
              "      <td>-0.634409</td>\n",
              "      <td>-0.623656</td>\n",
              "      <td>-0.612903</td>\n",
              "      <td>-0.602151</td>\n",
              "      <td>-0.591398</td>\n",
              "      <td>-0.580645</td>\n",
              "      <td>...</td>\n",
              "      <td>-0.003027</td>\n",
              "      <td>-0.002018</td>\n",
              "      <td>-0.001009</td>\n",
              "      <td>1999</td>\n",
              "      <td>0.0</td>\n",
              "      <td>2200.0</td>\n",
              "      <td>0</td>\n",
              "      <td>0</td>\n",
              "      <td>0</td>\n",
              "      <td>1</td>\n",
              "      <td>0</td>\n",
              "      <td>0</td>\n",
              "      <td>0</td>\n",
              "      <td>1</td>\n",
              "      <td>0</td>\n",
              "      <td>0</td>\n",
              "      <td>0</td>\n",
              "      <td>0</td>\n",
              "      <td>0</td>\n",
              "      <td>0</td>\n",
              "      <td>0</td>\n",
              "      <td>1</td>\n",
              "      <td>1</td>\n",
              "      <td>0</td>\n",
              "      <td>0</td>\n",
              "      <td>0</td>\n",
              "      <td>1</td>\n",
              "      <td>0</td>\n",
              "      <td>0</td>\n",
              "      <td>0</td>\n",
              "      <td>0</td>\n",
              "      <td>0</td>\n",
              "      <td>0</td>\n",
              "      <td>0</td>\n",
              "      <td>1</td>\n",
              "      <td>0</td>\n",
              "      <td>0</td>\n",
              "      <td>0</td>\n",
              "      <td>0</td>\n",
              "      <td>0</td>\n",
              "    </tr>\n",
              "    <tr>\n",
              "      <th>39998</th>\n",
              "      <td>1</td>\n",
              "      <td>0.010753</td>\n",
              "      <td>0.021505</td>\n",
              "      <td>0.032258</td>\n",
              "      <td>0.043011</td>\n",
              "      <td>0.053763</td>\n",
              "      <td>0.064516</td>\n",
              "      <td>0.075269</td>\n",
              "      <td>0.086022</td>\n",
              "      <td>0.096774</td>\n",
              "      <td>0.107527</td>\n",
              "      <td>0.11828</td>\n",
              "      <td>0.129032</td>\n",
              "      <td>0.139785</td>\n",
              "      <td>0.150538</td>\n",
              "      <td>0.16129</td>\n",
              "      <td>0.172043</td>\n",
              "      <td>0.182796</td>\n",
              "      <td>0.193548</td>\n",
              "      <td>0.204301</td>\n",
              "      <td>0.215054</td>\n",
              "      <td>0.225806</td>\n",
              "      <td>0.236559</td>\n",
              "      <td>0.247312</td>\n",
              "      <td>0.258065</td>\n",
              "      <td>0.268817</td>\n",
              "      <td>0.27957</td>\n",
              "      <td>0.290323</td>\n",
              "      <td>0.301075</td>\n",
              "      <td>0.311828</td>\n",
              "      <td>0.322581</td>\n",
              "      <td>0.333333</td>\n",
              "      <td>0.344086</td>\n",
              "      <td>0.354839</td>\n",
              "      <td>0.365591</td>\n",
              "      <td>0.376344</td>\n",
              "      <td>0.387097</td>\n",
              "      <td>0.397849</td>\n",
              "      <td>0.408602</td>\n",
              "      <td>0.419355</td>\n",
              "      <td>...</td>\n",
              "      <td>-0.003027</td>\n",
              "      <td>-0.002018</td>\n",
              "      <td>-0.001009</td>\n",
              "      <td>1996</td>\n",
              "      <td>250000.0</td>\n",
              "      <td>1300.0</td>\n",
              "      <td>0</td>\n",
              "      <td>1</td>\n",
              "      <td>0</td>\n",
              "      <td>0</td>\n",
              "      <td>0</td>\n",
              "      <td>0</td>\n",
              "      <td>0</td>\n",
              "      <td>1</td>\n",
              "      <td>0</td>\n",
              "      <td>0</td>\n",
              "      <td>0</td>\n",
              "      <td>0</td>\n",
              "      <td>0</td>\n",
              "      <td>0</td>\n",
              "      <td>0</td>\n",
              "      <td>1</td>\n",
              "      <td>0</td>\n",
              "      <td>0</td>\n",
              "      <td>1</td>\n",
              "      <td>0</td>\n",
              "      <td>1</td>\n",
              "      <td>0</td>\n",
              "      <td>0</td>\n",
              "      <td>0</td>\n",
              "      <td>0</td>\n",
              "      <td>0</td>\n",
              "      <td>0</td>\n",
              "      <td>0</td>\n",
              "      <td>1</td>\n",
              "      <td>0</td>\n",
              "      <td>0</td>\n",
              "      <td>0</td>\n",
              "      <td>0</td>\n",
              "      <td>0</td>\n",
              "    </tr>\n",
              "    <tr>\n",
              "      <th>39999</th>\n",
              "      <td>1</td>\n",
              "      <td>0.010753</td>\n",
              "      <td>0.021505</td>\n",
              "      <td>0.032258</td>\n",
              "      <td>0.043011</td>\n",
              "      <td>0.053763</td>\n",
              "      <td>0.064516</td>\n",
              "      <td>0.075269</td>\n",
              "      <td>0.086022</td>\n",
              "      <td>0.096774</td>\n",
              "      <td>0.107527</td>\n",
              "      <td>0.11828</td>\n",
              "      <td>-0.870968</td>\n",
              "      <td>-0.860215</td>\n",
              "      <td>-0.849462</td>\n",
              "      <td>-0.83871</td>\n",
              "      <td>-0.827957</td>\n",
              "      <td>-0.817204</td>\n",
              "      <td>-0.806452</td>\n",
              "      <td>-0.795699</td>\n",
              "      <td>-0.784946</td>\n",
              "      <td>-0.774194</td>\n",
              "      <td>-0.763441</td>\n",
              "      <td>-0.752688</td>\n",
              "      <td>-0.741935</td>\n",
              "      <td>-0.731183</td>\n",
              "      <td>-0.72043</td>\n",
              "      <td>-0.709677</td>\n",
              "      <td>-0.698925</td>\n",
              "      <td>-0.688172</td>\n",
              "      <td>-0.677419</td>\n",
              "      <td>-0.666667</td>\n",
              "      <td>-0.655914</td>\n",
              "      <td>-0.645161</td>\n",
              "      <td>-0.634409</td>\n",
              "      <td>-0.623656</td>\n",
              "      <td>-0.612903</td>\n",
              "      <td>-0.602151</td>\n",
              "      <td>-0.591398</td>\n",
              "      <td>-0.580645</td>\n",
              "      <td>...</td>\n",
              "      <td>-0.003027</td>\n",
              "      <td>-0.002018</td>\n",
              "      <td>-0.001009</td>\n",
              "      <td>1986</td>\n",
              "      <td>272344.0</td>\n",
              "      <td>1997.0</td>\n",
              "      <td>0</td>\n",
              "      <td>0</td>\n",
              "      <td>0</td>\n",
              "      <td>1</td>\n",
              "      <td>0</td>\n",
              "      <td>0</td>\n",
              "      <td>0</td>\n",
              "      <td>1</td>\n",
              "      <td>0</td>\n",
              "      <td>0</td>\n",
              "      <td>0</td>\n",
              "      <td>0</td>\n",
              "      <td>0</td>\n",
              "      <td>0</td>\n",
              "      <td>0</td>\n",
              "      <td>1</td>\n",
              "      <td>1</td>\n",
              "      <td>0</td>\n",
              "      <td>0</td>\n",
              "      <td>0</td>\n",
              "      <td>1</td>\n",
              "      <td>0</td>\n",
              "      <td>0</td>\n",
              "      <td>0</td>\n",
              "      <td>0</td>\n",
              "      <td>0</td>\n",
              "      <td>0</td>\n",
              "      <td>0</td>\n",
              "      <td>0</td>\n",
              "      <td>0</td>\n",
              "      <td>0</td>\n",
              "      <td>1</td>\n",
              "      <td>0</td>\n",
              "      <td>0</td>\n",
              "    </tr>\n",
              "  </tbody>\n",
              "</table>\n",
              "<p>40000 rows × 1120 columns</p>\n",
              "</div>"
            ],
            "text/plain": [
              "       intercept    make_0    make_1    make_2  ...  red  silver  white  yellow\n",
              "0              1 -0.989247 -0.978495 -0.967742  ...    0       0      0       0\n",
              "1              1  0.010753 -0.978495 -0.967742  ...    0       1      0       0\n",
              "2              1  0.010753  0.021505 -0.967742  ...    0       0      0       0\n",
              "3              1  0.010753  0.021505  0.032258  ...    0       0      0       0\n",
              "4              1  0.010753  0.021505 -0.967742  ...    0       0      0       0\n",
              "...          ...       ...       ...       ...  ...  ...     ...    ...     ...\n",
              "39995          1  0.010753  0.021505  0.032258  ...    0       1      0       0\n",
              "39996          1  0.010753  0.021505  0.032258  ...    0       0      0       0\n",
              "39997          1  0.010753  0.021505  0.032258  ...    0       0      0       0\n",
              "39998          1  0.010753  0.021505  0.032258  ...    0       0      0       0\n",
              "39999          1  0.010753  0.021505  0.032258  ...    0       1      0       0\n",
              "\n",
              "[40000 rows x 1120 columns]"
            ]
          },
          "metadata": {
            "tags": []
          },
          "execution_count": 84
        }
      ]
    },
    {
      "cell_type": "code",
      "metadata": {
        "colab": {
          "base_uri": "https://localhost:8080/"
        },
        "id": "DtjH6tCH4evu",
        "outputId": "683fd0d9-74b3-4513-82ee-762ac0730290"
      },
      "source": [
        "df_bd['intercept'].unique()"
      ],
      "execution_count": null,
      "outputs": [
        {
          "output_type": "execute_result",
          "data": {
            "text/plain": [
              "array([1])"
            ]
          },
          "metadata": {
            "tags": []
          },
          "execution_count": 86
        }
      ]
    },
    {
      "cell_type": "code",
      "metadata": {
        "id": "RlUKHS2C4mrW"
      },
      "source": [
        "df_bd.drop(['intercept'],axis=1,inplace=True)"
      ],
      "execution_count": null,
      "outputs": []
    },
    {
      "cell_type": "code",
      "metadata": {
        "colab": {
          "base_uri": "https://localhost:8080/"
        },
        "id": "TD24I8gt4t4j",
        "outputId": "4790d446-4753-44ea-cc36-fe667329398c"
      },
      "source": [
        "for1=RandomForestRegressor()\n",
        "for1.fit(df_bd,df_car_labels)"
      ],
      "execution_count": null,
      "outputs": [
        {
          "output_type": "execute_result",
          "data": {
            "text/plain": [
              "RandomForestRegressor(bootstrap=True, ccp_alpha=0.0, criterion='mse',\n",
              "                      max_depth=None, max_features='auto', max_leaf_nodes=None,\n",
              "                      max_samples=None, min_impurity_decrease=0.0,\n",
              "                      min_impurity_split=None, min_samples_leaf=1,\n",
              "                      min_samples_split=2, min_weight_fraction_leaf=0.0,\n",
              "                      n_estimators=100, n_jobs=None, oob_score=False,\n",
              "                      random_state=None, verbose=0, warm_start=False)"
            ]
          },
          "metadata": {
            "tags": []
          },
          "execution_count": 88
        }
      ]
    },
    {
      "cell_type": "code",
      "metadata": {
        "id": "6qT5HKGz4356"
      },
      "source": [
        "y=for1.predict(df_bd)"
      ],
      "execution_count": null,
      "outputs": []
    },
    {
      "cell_type": "code",
      "metadata": {
        "colab": {
          "base_uri": "https://localhost:8080/"
        },
        "id": "kenxwG5k487w",
        "outputId": "fbd31aa8-df1c-46fe-b4e4-f045b990a581"
      },
      "source": [
        "mean_squared_error(df_car_labels,y,squared=False)#Lowest RMSE out of all models "
      ],
      "execution_count": null,
      "outputs": [
        {
          "output_type": "execute_result",
          "data": {
            "text/plain": [
              "1088.8301067041057"
            ]
          },
          "metadata": {
            "tags": []
          },
          "execution_count": 102
        }
      ]
    },
    {
      "cell_type": "markdown",
      "metadata": {
        "id": "2QYFCXyk7Zcv"
      },
      "source": [
        "Minimum error is obtained when even make and model is encoded using but this takes too long to train hence isnt a very viable option if new data were to be added constantly ,but if model needs to be trained only once then its a good model"
      ]
    },
    {
      "cell_type": "code",
      "metadata": {
        "id": "nBy0bPEg5Agc"
      },
      "source": [
        "filename='Allcolsincludedmodel.sav'\n",
        "filename2='Abridgedmodel.sav'\n",
        "pickle.dump(for1, open(filename, 'wb'))\n",
        "pickle.dump(foreg,open(filename2,'wb'))\n"
      ],
      "execution_count": null,
      "outputs": []
    },
    {
      "cell_type": "code",
      "metadata": {
        "colab": {
          "base_uri": "https://localhost:8080/",
          "height": 34
        },
        "id": "b7wH_1l49N2g",
        "outputId": "6c2bf64e-8e76-48cc-9510-8047226bb4bf"
      },
      "source": [
        "from google.colab import files \n",
        "files.download(filename)\n"
      ],
      "execution_count": null,
      "outputs": [
        {
          "output_type": "display_data",
          "data": {
            "application/javascript": [
              "\n",
              "    async function download(id, filename, size) {\n",
              "      if (!google.colab.kernel.accessAllowed) {\n",
              "        return;\n",
              "      }\n",
              "      const div = document.createElement('div');\n",
              "      const label = document.createElement('label');\n",
              "      label.textContent = `Downloading \"${filename}\": `;\n",
              "      div.appendChild(label);\n",
              "      const progress = document.createElement('progress');\n",
              "      progress.max = size;\n",
              "      div.appendChild(progress);\n",
              "      document.body.appendChild(div);\n",
              "\n",
              "      const buffers = [];\n",
              "      let downloaded = 0;\n",
              "\n",
              "      const channel = await google.colab.kernel.comms.open(id);\n",
              "      // Send a message to notify the kernel that we're ready.\n",
              "      channel.send({})\n",
              "\n",
              "      for await (const message of channel.messages) {\n",
              "        // Send a message to notify the kernel that we're ready.\n",
              "        channel.send({})\n",
              "        if (message.buffers) {\n",
              "          for (const buffer of message.buffers) {\n",
              "            buffers.push(buffer);\n",
              "            downloaded += buffer.byteLength;\n",
              "            progress.value = downloaded;\n",
              "          }\n",
              "        }\n",
              "      }\n",
              "      const blob = new Blob(buffers, {type: 'application/binary'});\n",
              "      const a = document.createElement('a');\n",
              "      a.href = window.URL.createObjectURL(blob);\n",
              "      a.download = filename;\n",
              "      div.appendChild(a);\n",
              "      a.click();\n",
              "      div.remove();\n",
              "    }\n",
              "  "
            ],
            "text/plain": [
              "<IPython.core.display.Javascript object>"
            ]
          },
          "metadata": {
            "tags": []
          }
        },
        {
          "output_type": "display_data",
          "data": {
            "application/javascript": [
              "download(\"download_6f60d0ed-7309-40cf-bd54-1c0979b4ede2\", \"Allcolsincludedmodel.sav\", 308088179)"
            ],
            "text/plain": [
              "<IPython.core.display.Javascript object>"
            ]
          },
          "metadata": {
            "tags": []
          }
        }
      ]
    },
    {
      "cell_type": "code",
      "metadata": {
        "id": "WWTuVshm9iWY"
      },
      "source": [
        "loaded_model=pickle.load(open(filename,'rb'))\n"
      ],
      "execution_count": null,
      "outputs": []
    },
    {
      "cell_type": "code",
      "metadata": {
        "colab": {
          "base_uri": "https://localhost:8080/"
        },
        "id": "nK32c0zQNbpD",
        "outputId": "46531946-e107-45e8-8c93-ee4be7bcfb02"
      },
      "source": [
        "loaded_model.predict(df_bd)"
      ],
      "execution_count": null,
      "outputs": [
        {
          "output_type": "execute_result",
          "data": {
            "text/plain": [
              "array([ 867.84, 5160.44, 8143.02, ..., 3805.17, 1067.12,  899.09])"
            ]
          },
          "metadata": {
            "tags": []
          },
          "execution_count": 120
        }
      ]
    },
    {
      "cell_type": "code",
      "metadata": {
        "id": "C2FyWtuZOcmv"
      },
      "source": [
        ""
      ],
      "execution_count": null,
      "outputs": []
    }
  ]
}
